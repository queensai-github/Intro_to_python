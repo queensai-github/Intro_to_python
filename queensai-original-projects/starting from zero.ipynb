{
 "cells": [
  {
   "cell_type": "markdown",
   "metadata": {},
   "source": [
    "Amazing work so far!\n",
    "1-You have installed jupyter notebook and python\n",
    "2-you have watched a video on Data-Types\n",
    "3-Now, you will get a bit of exercise on working with jupyter notebook.\n",
    "4-after this mini project you can move forward to the next project\n",
    "Great progress so far 👌🏻👏🏼"
   ]
  },
  {
   "cell_type": "markdown",
   "metadata": {},
   "source": [
    "question: what is the type of following?\n",
    "Is it an integer or a float?"
   ]
  },
  {
   "cell_type": "code",
   "execution_count": null,
   "metadata": {
    "collapsed": true
   },
   "outputs": [],
   "source": [
    "number = 25676"
   ]
  },
  {
   "cell_type": "markdown",
   "metadata": {},
   "source": [
    "correct! it is an integer 🎉"
   ]
  },
  {
   "cell_type": "markdown",
   "metadata": {},
   "source": [
    "can you write a variable with a float number in it?\n",
    "call the variable 'number_float'"
   ]
  },
  {
   "cell_type": "code",
   "execution_count": 2,
   "metadata": {
    "collapsed": true
   },
   "outputs": [],
   "source": [
    "number_float = "
   ]
  },
  {
   "cell_type": "markdown",
   "metadata": {},
   "source": [
    "Not sure if you got it right? ask on the chatroom: https://queensai-ab.web.app/"
   ]
  },
  {
   "cell_type": "markdown",
   "metadata": {},
   "source": [
    "Now, write 4 different variables that each have 4 different data-types:\n",
    "for example one variable with integer, onw with float, one with string, one with boolean.\n",
    "be creative in naming your variables :)"
   ]
  },
  {
   "cell_type": "code",
   "execution_count": null,
   "metadata": {
    "collapsed": true
   },
   "outputs": [],
   "source": [
    "# write the integer variable here\n"
   ]
  },
  {
   "cell_type": "code",
   "execution_count": null,
   "metadata": {
    "collapsed": true
   },
   "outputs": [],
   "source": [
    "# write the float variable here\n"
   ]
  },
  {
   "cell_type": "code",
   "execution_count": null,
   "metadata": {
    "collapsed": true
   },
   "outputs": [],
   "source": [
    "# write the string variable here\n"
   ]
  },
  {
   "cell_type": "code",
   "execution_count": null,
   "metadata": {
    "collapsed": true
   },
   "outputs": [],
   "source": [
    "# write the boolean variable here\n"
   ]
  },
  {
   "cell_type": "markdown",
   "metadata": {},
   "source": [
    "Not sure if you got it right? ask on the chatroom: https://queensai-ab.web.app/"
   ]
  },
  {
   "cell_type": "markdown",
   "metadata": {},
   "source": [
    "well done so far.\n",
    "now move on to the next level.\n",
    "you can find the next level on the light-gray section of your classroom: https://queensai-ab.web.app/"
   ]
  }
 ],
 "metadata": {
  "kernelspec": {
   "display_name": "Python 3",
   "language": "python",
   "name": "python3"
  },
  "language_info": {
   "codemirror_mode": {
    "name": "ipython",
    "version": 3
   },
   "file_extension": ".py",
   "mimetype": "text/x-python",
   "name": "python",
   "nbconvert_exporter": "python",
   "pygments_lexer": "ipython3",
   "version": "3.6.3"
  }
 },
 "nbformat": 4,
 "nbformat_minor": 2
}
