{
 "cells": [
  {
   "cell_type": "markdown",
   "metadata": {},
   "source": [
    "# Funnel Analysis\n",
    "A [queensai.com](https://www.queensai.com/) original project created by mentor [Samantha Lam](https://www.linkedin.com/in/samanthalam/)."
   ]
  },
  {
   "cell_type": "markdown",
   "metadata": {},
   "source": [
    "## What is funnel analysis? \n",
    "\n",
    "Tomi Mester has an excellent blog post on this: https://data36.com/funnel-analysis/\n",
    "\n",
    "\"Funnel analysis is a powerful analytics method that shows visually the conversion between the most important steps of the user journey.\" \n",
    "\n",
    "One of the most common types of analysis in industry is an onboarding funnel analysis, which are the steps that a user goes from registering on a website to the point they do a key action that the product offers. Examples of a key action in onboarding funnels could be:\n",
    "- for a music-streaming service like Spotify, this could be when a user presses play for a song\n",
    "- for an email provider such as Gmail, this could be when a user sends an email\n",
    "- for a mobile game like Candy Crush, this could be from when a user downloads the app to when they have completed their first level.\n",
    "\n",
    "**Come up with your own ideas around other online services you know on what a key action they would want their user to perform to get an understanding of what their product does!**\n",
    "\n",
    "\n",
    "In this project we will go through how we would do this at Mentimeter (https://www.mentimeter.com/). If you don't already know what Mentimeter is, I highly recommend you check it out ;) In essence, Mentimeter is an interactive presentation platform where you can engage the audience with real-time interaction such as polls and word clouds.\n",
    "\n",
    "The key action we want the registered user to engage in to understand the value of Mentimeter is to present live in front of an audience. In other words, when a user's presentation has received 2 votes or more.\n",
    "\n",
    "*Note: Each Step corresponds roughly to one week of the course at queensai so the discussion points each week will revolve around the topic in the Step.*"
   ]
  },
  {
   "cell_type": "markdown",
   "metadata": {},
   "source": [
    "-----------------------"
   ]
  },
  {
   "cell_type": "markdown",
   "metadata": {},
   "source": [
    "\n",
    "### Week 1 Course Material\n",
    "\n",
    "What is Python and how to install\n",
    "- How to install Python + Jupyter notebook on your laptop!\thttps://www.codecademy.com/articles/install-python3\n",
    "- More on installing python\thttps://realpython.com/installing-python/\n",
    "\n",
    "#### Learn\n",
    "- What is a variable? It's a box with a name https://www.youtube.com/watch?v=OPBxRcosIaU\n",
    "- How to use a jupyter notebook: \n",
    " - https://www.dataquest.io/blog/jupyter-notebook-tutorial/\n",
    " - https://www.youtube.com/watch?v=1QDvkkdyGw0\n",
    "- Lessons 1 & 2 https://www.udacity.com/course/introduction-to-python--ud1110\n",
    "\n",
    "#### Inspiration\n",
    "- A little bit of fun history https://www.python-course.eu/python3_history_and_philosophy.php \n",
    "- Where To Start Learning How To Code https://www.youtube.com/watch?v=-1SmUivH9dQ\n",
    "- How can I become a good programmer, for beginners https://www.youtube.com/watch?v=2-VKC8g2u1Y"
   ]
  },
  {
   "cell_type": "markdown",
   "metadata": {},
   "source": [
    "### Step #1: Define the steps of your funnel + understand the data!\n",
    "\n",
    "Typically in a company you would need to understand how this is tracked in the data ecosystem. This data is often stored in some form of database that would require SQL to get this data out. The end result can be stored as a csv so let's imagine that we have someone to help us with the pulling of data but we still need to *define* what is needed.\n",
    "\n",
    "What do we need to know to start? We want to create an onboarding funnel at Mentimeter so let's define the steps required:\n",
    "- Registration\n",
    "- Create a presentation\n",
    "- Edit a presentation\n",
    "- Presented live\n",
    "\n",
    "So what kind of information do we need for each of these steps for us to understand how a user goes from one step to another? Well, the first thing is that we need an identifier for the user! Without this, there is no way we can know who has completed which step.\n",
    "\n",
    "How do we represent a user? We use what is called a user ID. A user ID is a unique identifier, commonly used to log on to a website, app, or online service, e.g. it may be a username, account number, or email address. (You can read a bit more about this at: https://techterms.com/definition/user_id). So if it is a username, what data type would that be? What about an account number? Or an email address then?"
   ]
  },
  {
   "cell_type": "code",
   "execution_count": 1,
   "metadata": {
    "collapsed": false
   },
   "outputs": [
    {
     "data": {
      "text/plain": [
       "str"
      ]
     },
     "execution_count": 1,
     "metadata": {},
     "output_type": "execute_result"
    }
   ],
   "source": [
    "# User ID is a username\n",
    "user_id = 'ilovepython'\n",
    "type(user_id)"
   ]
  },
  {
   "cell_type": "code",
   "execution_count": 2,
   "metadata": {
    "collapsed": false
   },
   "outputs": [
    {
     "data": {
      "text/plain": [
       "int"
      ]
     },
     "execution_count": 2,
     "metadata": {},
     "output_type": "execute_result"
    }
   ],
   "source": [
    "# User ID is an account number\n",
    "user_id = 123456\n",
    "type(user_id)"
   ]
  },
  {
   "cell_type": "code",
   "execution_count": 3,
   "metadata": {
    "collapsed": false
   },
   "outputs": [
    {
     "data": {
      "text/plain": [
       "str"
      ]
     },
     "execution_count": 3,
     "metadata": {},
     "output_type": "execute_result"
    }
   ],
   "source": [
    "# User ID is an email address\n",
    "user_id = 'ilovepython@email.com'\n",
    "type(user_id)"
   ]
  },
  {
   "cell_type": "markdown",
   "metadata": {},
   "source": [
    "In the case of this project, our user IDs are stored as account numbers, in other words, integers."
   ]
  },
  {
   "cell_type": "markdown",
   "metadata": {},
   "source": [
    "So we can identify a user, what else do we need? \n",
    "The onboarding step and the time at which it happened. We want the onboarding step to know what action the user has done, and the time at which it happened. These three pieces of information is one of the most common ways data is tracked about a user. Who, what and when.\n",
    "\n",
    "What would the data type of the onboarding step be? Let's say they are the words 'Registration', 'Create a presentation', 'Edit a presentation', and 'Presented live'. I bet this is straightforward."
   ]
  },
  {
   "cell_type": "code",
   "execution_count": 4,
   "metadata": {
    "collapsed": false
   },
   "outputs": [
    {
     "name": "stdout",
     "output_type": "stream",
     "text": [
      "<class 'str'> <class 'str'> <class 'str'> <class 'str'>\n"
     ]
    }
   ],
   "source": [
    "# Onboarding step\n",
    "onboarding_step1 = 'Registration'\n",
    "type(onboarding_step1)\n",
    "onboarding_step2 = 'Create a presentation'\n",
    "type(onboarding_step2)\n",
    "onboarding_step3 = 'Edit a presentation'\n",
    "onboarding_step4 = 'Presented live'\n",
    "\n",
    "print(type(onboarding_step1),type(onboarding_step4),type(onboarding_step3) ,type(onboarding_step4))"
   ]
  },
  {
   "cell_type": "markdown",
   "metadata": {},
   "source": [
    "How about when something happens, i.e. when the event was created at? This one is trickier. How can time be represented in Python?"
   ]
  },
  {
   "cell_type": "code",
   "execution_count": 5,
   "metadata": {
    "collapsed": false
   },
   "outputs": [
    {
     "data": {
      "text/plain": [
       "str"
      ]
     },
     "execution_count": 5,
     "metadata": {},
     "output_type": "execute_result"
    }
   ],
   "source": [
    "created_at1 = '2020-09-01 09:10:08'\n",
    "type(created_at1)"
   ]
  },
  {
   "cell_type": "code",
   "execution_count": 6,
   "metadata": {
    "collapsed": false
   },
   "outputs": [
    {
     "data": {
      "text/plain": [
       "str"
      ]
     },
     "execution_count": 6,
     "metadata": {},
     "output_type": "execute_result"
    }
   ],
   "source": [
    "created_at2 = '2020-09-01 09:20:08'\n",
    "type(created_at2)"
   ]
  },
  {
   "cell_type": "code",
   "execution_count": 7,
   "metadata": {
    "collapsed": false
   },
   "outputs": [
    {
     "ename": "TypeError",
     "evalue": "unsupported operand type(s) for -: 'str' and 'str'",
     "output_type": "error",
     "traceback": [
      "\u001b[0;31m---------------------------------------------------------------------------\u001b[0m",
      "\u001b[0;31mTypeError\u001b[0m                                 Traceback (most recent call last)",
      "\u001b[0;32m<ipython-input-7-051e5c500b97>\u001b[0m in \u001b[0;36m<module>\u001b[0;34m()\u001b[0m\n\u001b[0;32m----> 1\u001b[0;31m \u001b[0mcreated_at2\u001b[0m\u001b[0;34m-\u001b[0m\u001b[0mcreated_at1\u001b[0m\u001b[0;34m\u001b[0m\u001b[0m\n\u001b[0m",
      "\u001b[0;31mTypeError\u001b[0m: unsupported operand type(s) for -: 'str' and 'str'"
     ]
    }
   ],
   "source": [
    "created_at2-created_at1"
   ]
  },
  {
   "cell_type": "markdown",
   "metadata": {},
   "source": [
    "This *looks* nice, but we also know that there is actually a data type dedicated to time in python that gives us some nice functionality related to time that we don't get from strings (https://docs.python.org/3/library/datetime.html)"
   ]
  },
  {
   "cell_type": "code",
   "execution_count": 8,
   "metadata": {
    "collapsed": false
   },
   "outputs": [
    {
     "name": "stdout",
     "output_type": "stream",
     "text": [
      "2020-09-01 09:10:08 2021-09-01 10:20:08\n"
     ]
    }
   ],
   "source": [
    "import datetime as dt # dt is the alias for datetime\n",
    "created_at1 = dt.datetime(2020, 9, 1, 9, 10, 8)\n",
    "created_at2 = dt.datetime(2021, 9, 1, 10, 20, 8)\n",
    "\n",
    "print(created_at1, created_at2)"
   ]
  },
  {
   "cell_type": "code",
   "execution_count": 9,
   "metadata": {
    "collapsed": false,
    "scrolled": true
   },
   "outputs": [
    {
     "data": {
      "text/plain": [
       "datetime.timedelta(365, 4200)"
      ]
     },
     "execution_count": 9,
     "metadata": {},
     "output_type": "execute_result"
    }
   ],
   "source": [
    "time_diff = created_at2-created_at1\n",
    "time_diff"
   ]
  },
  {
   "cell_type": "code",
   "execution_count": 10,
   "metadata": {
    "collapsed": false
   },
   "outputs": [
    {
     "name": "stdout",
     "output_type": "stream",
     "text": [
      "365 4200\n"
     ]
    }
   ],
   "source": [
    "print(time_diff.days, time_diff.seconds)"
   ]
  },
  {
   "cell_type": "markdown",
   "metadata": {},
   "source": [
    "So, due to the flexibility that this object type gives us, we decide that the created_at data we get is a 'datetime.datetime' object.\n",
    "\n",
    "Now that we are clear about the data we need, and what object types they should be, let's import this data file and take a peek at it looks like."
   ]
  },
  {
   "cell_type": "code",
   "execution_count": 11,
   "metadata": {
    "collapsed": false
   },
   "outputs": [],
   "source": [
    "# Import the data file\n",
    "import csv\n",
    "data=[]\n",
    "with open('onboarding_funnel_data.csv', newline='') as csvfile:\n",
    "    datareader = csv.reader(csvfile, delimiter=';', quotechar='|')\n",
    "    for row in datareader:\n",
    "        data.append(row)"
   ]
  },
  {
   "cell_type": "code",
   "execution_count": 12,
   "metadata": {
    "collapsed": false
   },
   "outputs": [
    {
     "data": {
      "text/plain": [
       "[['user_id,funnel_step,timestamp,device'],\n",
       " ['3695,edit,2020-01-04 22:44:44,desktop'],\n",
       " ['10204,live,2020-01-05 00:22:50,desktop'],\n",
       " ['10399,live,2020-01-05 04:45:55,desktop'],\n",
       " ['7536,edit,2020-01-05 03:10:15,desktop'],\n",
       " ['6578,edit,2020-01-04 22:40:19,desktop'],\n",
       " ['801,create,2020-01-04 23:14:42,desktop'],\n",
       " ['4416,registration,2020-01-05 01:05:31,mobile'],\n",
       " ['10501,edit,2020-01-05 00:53:17,desktop'],\n",
       " ['1037,create,2020-01-05 06:10:27,desktop']]"
      ]
     },
     "execution_count": 12,
     "metadata": {},
     "output_type": "execute_result"
    }
   ],
   "source": [
    "data[0:10]"
   ]
  },
  {
   "cell_type": "markdown",
   "metadata": {},
   "source": [
    "Does this look weird?"
   ]
  },
  {
   "cell_type": "code",
   "execution_count": 13,
   "metadata": {
    "collapsed": false
   },
   "outputs": [
    {
     "data": {
      "text/plain": [
       "['user_id,funnel_step,timestamp,device']"
      ]
     },
     "execution_count": 13,
     "metadata": {},
     "output_type": "execute_result"
    }
   ],
   "source": [
    "data[0]"
   ]
  },
  {
   "cell_type": "markdown",
   "metadata": {},
   "source": [
    "If you look carefully, you'll notice that the value in the array is a whole string, rather than 4 separate ones for each column. Why this happens is because the delimiter used is a semi-colon (;) and not a comma (,) which is what the csv we are importing uses. Let's try again!"
   ]
  },
  {
   "cell_type": "code",
   "execution_count": 14,
   "metadata": {
    "collapsed": true
   },
   "outputs": [],
   "source": [
    "# Import the data file\n",
    "import csv\n",
    "data=[]\n",
    "with open('onboarding_funnel_data.csv', newline='') as csvfile:\n",
    "    datareader = csv.reader(csvfile, delimiter=',', quotechar='|')\n",
    "    for row in datareader:\n",
    "        data.append(row)"
   ]
  },
  {
   "cell_type": "code",
   "execution_count": 15,
   "metadata": {
    "collapsed": false
   },
   "outputs": [
    {
     "data": {
      "text/plain": [
       "[['user_id', 'funnel_step', 'timestamp', 'device'],\n",
       " ['3695', 'edit', '2020-01-04 22:44:44', 'desktop'],\n",
       " ['10204', 'live', '2020-01-05 00:22:50', 'desktop'],\n",
       " ['10399', 'live', '2020-01-05 04:45:55', 'desktop'],\n",
       " ['7536', 'edit', '2020-01-05 03:10:15', 'desktop'],\n",
       " ['6578', 'edit', '2020-01-04 22:40:19', 'desktop'],\n",
       " ['801', 'create', '2020-01-04 23:14:42', 'desktop'],\n",
       " ['4416', 'registration', '2020-01-05 01:05:31', 'mobile'],\n",
       " ['10501', 'edit', '2020-01-05 00:53:17', 'desktop'],\n",
       " ['1037', 'create', '2020-01-05 06:10:27', 'desktop']]"
      ]
     },
     "execution_count": 15,
     "metadata": {},
     "output_type": "execute_result"
    }
   ],
   "source": [
    "data[0:10]"
   ]
  },
  {
   "cell_type": "markdown",
   "metadata": {},
   "source": [
    "This looks a lot better!"
   ]
  },
  {
   "cell_type": "markdown",
   "metadata": {},
   "source": [
    "--------------------------"
   ]
  },
  {
   "cell_type": "markdown",
   "metadata": {},
   "source": [
    "### Week 2 Course Material\n",
    "\n",
    "#### Learn\n",
    "- Lessons 3 & 4 https://www.udacity.com/course/introduction-to-python--ud1110\n",
    "- Functions, Sequences, Iterations: Python Programming Bootcamp 2020 | Learn to Code in Python [Tutorial and Exercises] https://www.youtube.com/watch?v=KPuA3Vq4yvY&t=0s\n",
    "- Python Functions https://www.youtube.com/watch?v=u-OmVr_fT4s\n",
    "- The first 5 sections, Introduction to DataFrame https://www.tutorialspoint.com/python_pandas/python_pandas_dataframe.htm\n",
    "\n",
    "#### Inspiration\n",
    "- How To Stay Motivated When Learning To Code https://www.youtube.com/watch?v=a0wY2TBs3zY\n",
    "- Dealing with Stress and Anxiety When Learning to Code https://www.youtube.com/watch?v=anfszzl3GpA\n",
    "\n",
    "### Step #2: More data manipulation + initial visualisation\n",
    "\n",
    "- Always check the data!\n",
    "- Let's try out some different ways of visualising the same thing. Which is most effective for understanding?"
   ]
  },
  {
   "cell_type": "markdown",
   "metadata": {},
   "source": [
    "**NB: from now on, not every code snippet will run. Where there is a '?', you need to fill in the appropriate code.**"
   ]
  },
  {
   "cell_type": "markdown",
   "metadata": {},
   "source": [
    "After we import and understand what kind of information the dataset contains, we can start cleaning the dataset before stepping into analysis stage. The data cleaning process is very important to make sure that the dataset we had has met our criteria and to make sure the conclusion resulted from it is correct."
   ]
  },
  {
   "cell_type": "code",
   "execution_count": 16,
   "metadata": {
    "collapsed": false
   },
   "outputs": [
    {
     "data": {
      "text/plain": [
       "35775"
      ]
     },
     "execution_count": 16,
     "metadata": {},
     "output_type": "execute_result"
    }
   ],
   "source": [
    "# how many rows does the dataset have? i.e. how big is it\n",
    "len(data)"
   ]
  },
  {
   "cell_type": "code",
   "execution_count": 17,
   "metadata": {
    "collapsed": false
   },
   "outputs": [
    {
     "data": {
      "text/plain": [
       "4"
      ]
     },
     "execution_count": 17,
     "metadata": {},
     "output_type": "execute_result"
    }
   ],
   "source": [
    "# you can also check how many columns by referring to the row\n",
    "len(data[0])"
   ]
  },
  {
   "cell_type": "code",
   "execution_count": 18,
   "metadata": {
    "collapsed": false
   },
   "outputs": [
    {
     "name": "stdout",
     "output_type": "stream",
     "text": [
      "This is an array of size 35775 by 4\n"
     ]
    }
   ],
   "source": [
    "X=?\n",
    "Y=?\n",
    "print('This is an array of size '+ X +' by '+ Y )"
   ]
  },
  {
   "cell_type": "code",
   "execution_count": 19,
   "metadata": {
    "collapsed": false
   },
   "outputs": [
    {
     "data": {
      "text/plain": [
       "[['user_id', 'funnel_step', 'timestamp', 'device'],\n",
       " ['3695', 'edit', '2020-01-04 22:44:44', 'desktop'],\n",
       " ['10204', 'live', '2020-01-05 00:22:50', 'desktop'],\n",
       " ['10399', 'live', '2020-01-05 04:45:55', 'desktop'],\n",
       " ['7536', 'edit', '2020-01-05 03:10:15', 'desktop'],\n",
       " ['6578', 'edit', '2020-01-04 22:40:19', 'desktop'],\n",
       " ['801', 'create', '2020-01-04 23:14:42', 'desktop'],\n",
       " ['4416', 'registration', '2020-01-05 01:05:31', 'mobile'],\n",
       " ['10501', 'edit', '2020-01-05 00:53:17', 'desktop'],\n",
       " ['1037', 'create', '2020-01-05 06:10:27', 'desktop']]"
      ]
     },
     "execution_count": 19,
     "metadata": {},
     "output_type": "execute_result"
    }
   ],
   "source": [
    "# Fill in the ? to show the first 10 rows\n",
    "data[?:?]"
   ]
  },
  {
   "cell_type": "markdown",
   "metadata": {},
   "source": [
    "#### Remove duplicates\n",
    "Nearly always, the very, very first thing you can do with a dataset is to check for duplicate data. To do this, you can loop through the dataset and count to see."
   ]
  },
  {
   "cell_type": "code",
   "execution_count": 20,
   "metadata": {
    "collapsed": false
   },
   "outputs": [
    {
     "name": "stdout",
     "output_type": "stream",
     "text": [
      "Number of unique rows :  35735\n",
      "Number of duplicate rows :  40\n"
     ]
    }
   ],
   "source": [
    "# Remove duplicates\n",
    "# Beware: this is a slow way of doing this and it can take up to 5-10 mins to run - we will learn a faster method later :)\n",
    "\n",
    "duplicate_data = []\n",
    "unique_data = []\n",
    "\n",
    "for row in data:\n",
    "    if row in unique_data:\n",
    "        duplicate_data.append(row)\n",
    "    else:\n",
    "        unique_data.append(row)\n",
    "        \n",
    "print('Number of unique rows : ', ?)\n",
    "print('Number of duplicate rows : ', ?)"
   ]
  },
  {
   "cell_type": "code",
   "execution_count": 21,
   "metadata": {
    "collapsed": true
   },
   "outputs": [],
   "source": [
    "# Since it took so long to run, let's save this to a file so we can retrieve it easily later\n",
    "with open('onboarding_funnel_data_unique.csv', mode='w') as employee_file:\n",
    "    data_writer = csv.writer(employee_file, delimiter=',', quotechar='\"', quoting=csv.QUOTE_MINIMAL)\n",
    "    for row in unique_data:\n",
    "        data_writer.writerow(row)"
   ]
  },
  {
   "cell_type": "markdown",
   "metadata": {},
   "source": [
    "Let's look at our data again"
   ]
  },
  {
   "cell_type": "code",
   "execution_count": 22,
   "metadata": {
    "collapsed": false
   },
   "outputs": [
    {
     "data": {
      "text/plain": [
       "[['user_id', 'funnel_step', 'timestamp', 'device'],\n",
       " ['3695', 'edit', '2020-01-04 22:44:44', 'desktop'],\n",
       " ['10204', 'live', '2020-01-05 00:22:50', 'desktop'],\n",
       " ['10399', 'live', '2020-01-05 04:45:55', 'desktop'],\n",
       " ['7536', 'edit', '2020-01-05 03:10:15', 'desktop'],\n",
       " ['6578', 'edit', '2020-01-04 22:40:19', 'desktop'],\n",
       " ['801', 'create', '2020-01-04 23:14:42', 'desktop'],\n",
       " ['4416', 'registration', '2020-01-05 01:05:31', 'mobile'],\n",
       " ['10501', 'edit', '2020-01-05 00:53:17', 'desktop'],\n",
       " ['1037', 'create', '2020-01-05 06:10:27', 'desktop']]"
      ]
     },
     "execution_count": 22,
     "metadata": {},
     "output_type": "execute_result"
    }
   ],
   "source": [
    "# Show the first 10 rows of unique_data\n",
    "?"
   ]
  },
  {
   "cell_type": "markdown",
   "metadata": {},
   "source": [
    "We see that there are 4 columns: user_id, funnel_step, timestamp, and source. Source looks to be a new piece of information. What does it look like it shows? Is this useful information?"
   ]
  },
  {
   "cell_type": "markdown",
   "metadata": {},
   "source": [
    "Let's loop through the dataset and pick out all the values for column 4 and put it in a list."
   ]
  },
  {
   "cell_type": "code",
   "execution_count": 23,
   "metadata": {
    "collapsed": false
   },
   "outputs": [
    {
     "data": {
      "text/plain": [
       "['device',\n",
       " 'desktop',\n",
       " 'desktop',\n",
       " 'desktop',\n",
       " 'desktop',\n",
       " 'desktop',\n",
       " 'desktop',\n",
       " 'mobile',\n",
       " 'desktop',\n",
       " 'desktop',\n",
       " 'mobile',\n",
       " 'mobile',\n",
       " 'desktop',\n",
       " 'desktop',\n",
       " 'desktop',\n",
       " 'desktop',\n",
       " 'mobile',\n",
       " 'desktop',\n",
       " 'desktop',\n",
       " 'mobile']"
      ]
     },
     "execution_count": 23,
     "metadata": {},
     "output_type": "execute_result"
    }
   ],
   "source": [
    "column4 = []\n",
    "for row in unique_data:\n",
    "    column4.append(row[3])\n",
    "    \n",
    "# print the first 10 rows of column4\n",
    "?"
   ]
  },
  {
   "cell_type": "markdown",
   "metadata": {},
   "source": [
    "In python, there is an in-built function called set (https://docs.python.org/2/library/sets.html based on mathematical set theory), that has a nice feature that can tell you the unique elements of a list. "
   ]
  },
  {
   "cell_type": "code",
   "execution_count": 24,
   "metadata": {
    "collapsed": false
   },
   "outputs": [
    {
     "data": {
      "text/plain": [
       "{'desktop', 'device', 'mobile'}"
      ]
     },
     "execution_count": 24,
     "metadata": {},
     "output_type": "execute_result"
    }
   ],
   "source": [
    "set(column4)"
   ]
  },
  {
   "cell_type": "markdown",
   "metadata": {},
   "source": [
    "From this we can see that there are only two types of devices in the dataset: desktop and mobile.\n",
    "\n",
    "Let's try this again for some of the other columns. And rather than copy and pasting the same code snippet, we can create a function to do this."
   ]
  },
  {
   "cell_type": "code",
   "execution_count": 25,
   "metadata": {
    "collapsed": true
   },
   "outputs": [],
   "source": [
    "def show_uniques(dataset, column_number):\n",
    "    temp = []\n",
    "    for row in dataset:\n",
    "        temp.append(row[?]) # remember python indices start at 0\n",
    "        \n",
    "    return set(temp)"
   ]
  },
  {
   "cell_type": "code",
   "execution_count": 26,
   "metadata": {
    "collapsed": false
   },
   "outputs": [
    {
     "data": {
      "text/plain": [
       "{'desktop', 'device', 'mobile'}"
      ]
     },
     "execution_count": 26,
     "metadata": {},
     "output_type": "execute_result"
    }
   ],
   "source": [
    "# unique values in column 4\n",
    "show_uniques(unique_data, 4)"
   ]
  },
  {
   "cell_type": "code",
   "execution_count": 27,
   "metadata": {
    "collapsed": false
   },
   "outputs": [
    {
     "data": {
      "text/plain": [
       "{'create', 'edit', 'funnel_step', 'live', 'registration', 'test'}"
      ]
     },
     "execution_count": 27,
     "metadata": {},
     "output_type": "execute_result"
    }
   ],
   "source": [
    "# unique values in column 2\n",
    "?"
   ]
  },
  {
   "cell_type": "markdown",
   "metadata": {},
   "source": [
    "For the user_id and timestamp columns, we can see that they are quite unique, so rather than printing out every value, it is more useful to see _how many_ of them there are."
   ]
  },
  {
   "cell_type": "code",
   "execution_count": 28,
   "metadata": {
    "collapsed": false,
    "scrolled": true
   },
   "outputs": [
    {
     "data": {
      "text/plain": [
       "11308"
      ]
     },
     "execution_count": 28,
     "metadata": {},
     "output_type": "execute_result"
    }
   ],
   "source": [
    "# unique values in column 1\n",
    "len(show_uniques(unique_data, 1))"
   ]
  },
  {
   "cell_type": "code",
   "execution_count": 29,
   "metadata": {
    "collapsed": false
   },
   "outputs": [
    {
     "data": {
      "text/plain": [
       "23032"
      ]
     },
     "execution_count": 29,
     "metadata": {},
     "output_type": "execute_result"
    }
   ],
   "source": [
    "# unique values in column 3\n",
    "?"
   ]
  },
  {
   "cell_type": "markdown",
   "metadata": {},
   "source": [
    "What have we learned about the dataset?  "
   ]
  },
  {
   "cell_type": "code",
   "execution_count": 30,
   "metadata": {
    "collapsed": false
   },
   "outputs": [
    {
     "name": "stdout",
     "output_type": "stream",
     "text": [
      "There are 11308 unique users\n",
      "There are 23032 unique timestamps\n"
     ]
    }
   ],
   "source": [
    "print('There are '+ ? + ' unique users')\n",
    "print('There are '+ ? + ' unique timestamps')"
   ]
  },
  {
   "cell_type": "markdown",
   "metadata": {},
   "source": [
    "#### Remove erroneous data\n",
    "We also see that there is one step in the funnel that is not expected: 'test'. This is something that can happen when we are retrieving the dataset from source, some unintended events can easily get included unnecessarily. So let's use a loop to remove it."
   ]
  },
  {
   "cell_type": "code",
   "execution_count": 31,
   "metadata": {
    "collapsed": false
   },
   "outputs": [],
   "source": [
    "for row in unique_data:\n",
    "    if row[1]=='test':\n",
    "        unique_data.remove(row)\n",
    "    else:\n",
    "        continue"
   ]
  },
  {
   "cell_type": "code",
   "execution_count": 32,
   "metadata": {
    "collapsed": false
   },
   "outputs": [
    {
     "data": {
      "text/plain": [
       "{'create', 'edit', 'funnel_step', 'live', 'registration', 'test'}"
      ]
     },
     "execution_count": 32,
     "metadata": {},
     "output_type": "execute_result"
    }
   ],
   "source": [
    "show_uniques(unique_data, 2)"
   ]
  },
  {
   "cell_type": "markdown",
   "metadata": {},
   "source": [
    "Hmm, here it looks like the 'test' funnel_step has not been completely removed. This is really strange. Do have any ideas why? Hint: re-run the deletion loop and search for those rows that have not been deleted in the csv directly."
   ]
  },
  {
   "cell_type": "code",
   "execution_count": 33,
   "metadata": {
    "collapsed": false
   },
   "outputs": [
    {
     "name": "stdout",
     "output_type": "stream",
     "text": [
      "The following row is removed:  ['7221', 'test', '2020-01-04 23:53:34', 'desktop']\n",
      "The following row is removed:  ['4268', 'test', '2020-01-05 03:26:16', 'desktop']\n",
      "The following row is removed:  ['11032', 'test', '2020-01-05 00:20:56', 'desktop']\n",
      "The following row is removed:  ['7999', 'test', '2020-01-04 23:55:55', 'desktop']\n",
      "The following row is removed:  ['5013', 'test', '2020-01-04 20:08:13', 'desktop']\n",
      "The following row is removed:  ['589', 'test', '2020-01-04 22:00:13', 'desktop']\n"
     ]
    }
   ],
   "source": [
    "for row in unique_data:\n",
    "    if row[1]=='test':\n",
    "        unique_data.remove(row)\n",
    "        print('The following row is removed: ', str(row))\n",
    "    else:\n",
    "        continue"
   ]
  },
  {
   "cell_type": "markdown",
   "metadata": {},
   "source": [
    "The reason is because there were two 'test' rows in-a-row in the original csv, so when we were looping through the dataset and was checking if row x satisfied the if condition, we immediately removed it so everything shifted up one so the subsequent 'test' row got 'skipped' and we continued the loop on the next row. (See if you can explain this to a classmate, or if this is unclear, ask a mentor!) These type of strange errors is very common when you start out in programming, so always double-check that everything is going to plan!\n",
    "\n",
    "So, let's try a slightly different approach."
   ]
  },
  {
   "cell_type": "code",
   "execution_count": 34,
   "metadata": {
    "collapsed": true
   },
   "outputs": [],
   "source": [
    "# Re-import the data file since we have removed the duplicates using the less efficient method\n",
    "unique_data=[]\n",
    "with open('onboarding_funnel_data_unique.csv', newline='') as csvfile:\n",
    "    datareader = csv.reader(csvfile, delimiter=',', quotechar='|')\n",
    "    for row in datareader:\n",
    "        unique_data.append(row)"
   ]
  },
  {
   "cell_type": "code",
   "execution_count": 35,
   "metadata": {
    "collapsed": false
   },
   "outputs": [],
   "source": [
    "newdata=[]\n",
    "for row in unique_data:\n",
    "    if row[1] != 'test':\n",
    "        newdata.append(row)\n",
    "    else:\n",
    "        continue"
   ]
  },
  {
   "cell_type": "code",
   "execution_count": 36,
   "metadata": {
    "collapsed": false
   },
   "outputs": [
    {
     "data": {
      "text/plain": [
       "{'create', 'edit', 'funnel_step', 'live', 'registration'}"
      ]
     },
     "execution_count": 36,
     "metadata": {},
     "output_type": "execute_result"
    }
   ],
   "source": [
    "# show the uniques in row 2 of newdata"
   ]
  },
  {
   "cell_type": "markdown",
   "metadata": {},
   "source": [
    "Now we have a new dataset 'newdata' that is created from 'data' and has exactly the 4 funnel steps we are interested in. The next check we should do is what we prepared for, when we specified the data we wanted -- what type they should be. Let's create a function that checks for all the types under one column."
   ]
  },
  {
   "cell_type": "code",
   "execution_count": 37,
   "metadata": {
    "collapsed": true
   },
   "outputs": [],
   "source": [
    "def show_datatypes(dataset, column_number):\n",
    "    temp = []\n",
    "    for row in dataset:\n",
    "        temp.append(type(row[column_number-1])) # remember python indices start at 0\n",
    "        \n",
    "    return set(temp)"
   ]
  },
  {
   "cell_type": "code",
   "execution_count": 38,
   "metadata": {
    "collapsed": false
   },
   "outputs": [
    {
     "data": {
      "text/plain": [
       "{str}"
      ]
     },
     "execution_count": 38,
     "metadata": {},
     "output_type": "execute_result"
    }
   ],
   "source": [
    "show_datatypes(newdata,1)"
   ]
  },
  {
   "cell_type": "code",
   "execution_count": 39,
   "metadata": {
    "collapsed": false
   },
   "outputs": [
    {
     "data": {
      "text/plain": [
       "{str}"
      ]
     },
     "execution_count": 39,
     "metadata": {},
     "output_type": "execute_result"
    }
   ],
   "source": [
    "# show the data types for column 2\n",
    "?"
   ]
  },
  {
   "cell_type": "code",
   "execution_count": 40,
   "metadata": {
    "collapsed": false
   },
   "outputs": [
    {
     "data": {
      "text/plain": [
       "{str}"
      ]
     },
     "execution_count": 40,
     "metadata": {},
     "output_type": "execute_result"
    }
   ],
   "source": [
    "# show the data types for column 3\n",
    "?"
   ]
  },
  {
   "cell_type": "code",
   "execution_count": 41,
   "metadata": {
    "collapsed": false
   },
   "outputs": [
    {
     "data": {
      "text/plain": [
       "{str}"
      ]
     },
     "execution_count": 41,
     "metadata": {},
     "output_type": "execute_result"
    }
   ],
   "source": [
    "# show the data types for column 4\n",
    "?"
   ]
  },
  {
   "cell_type": "markdown",
   "metadata": {},
   "source": [
    "It looks like everything is a string - which, while flexible, means user_id and timestamp can contain letters and other characters which might not be what we want. Generally how we can see this straightaway, is that an integer like 123, is shown as '123' when we look at the values. We can use common sense as well as programmatic sense!"
   ]
  },
  {
   "cell_type": "markdown",
   "metadata": {},
   "source": [
    "So, let's make the timestamp into a 'datetime.datetime' object and user_id into a integer object. Now instead of creating a function to loop through the elements, a neat functionality of python is list comprehensions (https://www.datacamp.com/community/tutorials/python-list-comprehension). Don't worry if you don't completely understand the tutorial, we will use a very simple example of it. However, this is something that is good to know and to revisit when you are more comfortable with programming in general as it helps with optimisation (making code faster). \n",
    "\n",
    "Do you understand how the dt.datetime part works? (Hint: remember dt.datetime(2021, 9, 1, 10, 20, 8) from Week 1)\n"
   ]
  },
  {
   "cell_type": "code",
   "execution_count": 42,
   "metadata": {
    "collapsed": false
   },
   "outputs": [
    {
     "data": {
      "text/plain": [
       "[datetime.datetime(2020, 1, 4, 22, 44, 44),\n",
       " datetime.datetime(2020, 1, 5, 0, 22, 50),\n",
       " datetime.datetime(2020, 1, 5, 4, 45, 55),\n",
       " datetime.datetime(2020, 1, 5, 3, 10, 15),\n",
       " datetime.datetime(2020, 1, 4, 22, 40, 19),\n",
       " datetime.datetime(2020, 1, 4, 23, 14, 42),\n",
       " datetime.datetime(2020, 1, 5, 1, 5, 31),\n",
       " datetime.datetime(2020, 1, 5, 0, 53, 17),\n",
       " datetime.datetime(2020, 1, 5, 6, 10, 27),\n",
       " datetime.datetime(2020, 1, 5, 1, 56, 38),\n",
       " datetime.datetime(2020, 1, 5, 3, 42, 35),\n",
       " datetime.datetime(2020, 1, 4, 21, 36, 30),\n",
       " datetime.datetime(2020, 1, 4, 22, 48, 52),\n",
       " datetime.datetime(2020, 1, 4, 22, 2, 47),\n",
       " datetime.datetime(2020, 1, 5, 2, 21, 44),\n",
       " datetime.datetime(2020, 1, 5, 1, 26, 32),\n",
       " datetime.datetime(2020, 1, 4, 20, 41, 26),\n",
       " datetime.datetime(2020, 1, 4, 19, 29, 59),\n",
       " datetime.datetime(2020, 1, 5, 1, 15, 47),\n",
       " datetime.datetime(2020, 1, 4, 20, 28, 19),\n",
       " datetime.datetime(2020, 1, 5, 4, 38, 35),\n",
       " datetime.datetime(2020, 1, 5, 2, 45, 38),\n",
       " datetime.datetime(2020, 1, 5, 0, 49, 36),\n",
       " datetime.datetime(2020, 1, 4, 22, 38, 8),\n",
       " datetime.datetime(2020, 1, 5, 0, 12, 12),\n",
       " datetime.datetime(2020, 1, 5, 0, 17, 3),\n",
       " datetime.datetime(2020, 1, 5, 0, 1, 33),\n",
       " datetime.datetime(2020, 1, 5, 4, 14, 56),\n",
       " datetime.datetime(2020, 1, 5, 3, 14, 8),\n",
       " datetime.datetime(2020, 1, 5, 0, 57, 28),\n",
       " datetime.datetime(2020, 1, 5, 2, 35, 51),\n",
       " datetime.datetime(2020, 1, 4, 18, 57, 58),\n",
       " datetime.datetime(2020, 1, 4, 21, 41, 49),\n",
       " datetime.datetime(2020, 1, 4, 22, 10, 41),\n",
       " datetime.datetime(2020, 1, 4, 19, 44, 2),\n",
       " datetime.datetime(2020, 1, 5, 3, 8, 26),\n",
       " datetime.datetime(2020, 1, 4, 23, 13, 57),\n",
       " datetime.datetime(2020, 1, 4, 21, 37, 55),\n",
       " datetime.datetime(2020, 1, 4, 22, 49, 17),\n",
       " datetime.datetime(2020, 1, 4, 22, 24, 23),\n",
       " datetime.datetime(2020, 1, 4, 23, 5, 32),\n",
       " datetime.datetime(2020, 1, 4, 21, 56, 1),\n",
       " datetime.datetime(2020, 1, 4, 20, 32, 45),\n",
       " datetime.datetime(2020, 1, 5, 1, 15, 29),\n",
       " datetime.datetime(2020, 1, 4, 23, 30, 9),\n",
       " datetime.datetime(2020, 1, 4, 21, 47, 8),\n",
       " datetime.datetime(2020, 1, 5, 2, 0, 43),\n",
       " datetime.datetime(2020, 1, 4, 23, 7, 53),\n",
       " datetime.datetime(2020, 1, 4, 23, 40, 31),\n",
       " datetime.datetime(2020, 1, 4, 23, 8, 23),\n",
       " datetime.datetime(2020, 1, 4, 23, 5, 28),\n",
       " datetime.datetime(2020, 1, 5, 2, 25, 33),\n",
       " datetime.datetime(2020, 1, 5, 2, 26, 50),\n",
       " datetime.datetime(2020, 1, 5, 0, 15, 36),\n",
       " datetime.datetime(2020, 1, 5, 1, 28, 43),\n",
       " datetime.datetime(2020, 1, 5, 0, 5, 27),\n",
       " datetime.datetime(2020, 1, 4, 18, 32, 21),\n",
       " datetime.datetime(2020, 1, 4, 23, 41, 43),\n",
       " datetime.datetime(2020, 1, 5, 1, 29, 52),\n",
       " datetime.datetime(2020, 1, 4, 23, 21, 39),\n",
       " datetime.datetime(2020, 1, 5, 0, 27, 53),\n",
       " datetime.datetime(2020, 1, 5, 1, 21, 48),\n",
       " datetime.datetime(2020, 1, 4, 18, 34, 1),\n",
       " datetime.datetime(2020, 1, 4, 22, 21, 32),\n",
       " datetime.datetime(2020, 1, 4, 21, 23, 12),\n",
       " datetime.datetime(2020, 1, 5, 0, 20, 52),\n",
       " datetime.datetime(2020, 1, 5, 1, 1, 41),\n",
       " datetime.datetime(2020, 1, 5, 4, 15, 47),\n",
       " datetime.datetime(2020, 1, 4, 22, 40, 9),\n",
       " datetime.datetime(2020, 1, 4, 19, 56, 23),\n",
       " datetime.datetime(2020, 1, 5, 3, 55, 7),\n",
       " datetime.datetime(2020, 1, 5, 1, 30, 25),\n",
       " datetime.datetime(2020, 1, 5, 2, 11, 59),\n",
       " datetime.datetime(2020, 1, 4, 23, 44, 53),\n",
       " datetime.datetime(2020, 1, 5, 1, 21, 33),\n",
       " datetime.datetime(2020, 1, 4, 22, 4, 5),\n",
       " datetime.datetime(2020, 1, 5, 4, 51, 20),\n",
       " datetime.datetime(2020, 1, 5, 5, 39, 28),\n",
       " datetime.datetime(2020, 1, 4, 23, 0, 36),\n",
       " datetime.datetime(2020, 1, 4, 23, 38, 45),\n",
       " datetime.datetime(2020, 1, 5, 0, 6, 23),\n",
       " datetime.datetime(2020, 1, 4, 18, 23, 36),\n",
       " datetime.datetime(2020, 1, 5, 1, 21, 4),\n",
       " datetime.datetime(2020, 1, 4, 17, 57, 35),\n",
       " datetime.datetime(2020, 1, 5, 5, 49, 49),\n",
       " datetime.datetime(2020, 1, 4, 20, 14, 26),\n",
       " datetime.datetime(2020, 1, 5, 0, 19, 13),\n",
       " datetime.datetime(2020, 1, 4, 23, 8, 26),\n",
       " datetime.datetime(2020, 1, 4, 22, 3, 38),\n",
       " datetime.datetime(2020, 1, 5, 0, 43, 42),\n",
       " datetime.datetime(2020, 1, 5, 1, 22, 26),\n",
       " datetime.datetime(2020, 1, 4, 23, 38, 50),\n",
       " datetime.datetime(2020, 1, 4, 23, 8, 39),\n",
       " datetime.datetime(2020, 1, 4, 19, 47, 57),\n",
       " datetime.datetime(2020, 1, 4, 19, 4, 28),\n",
       " datetime.datetime(2020, 1, 4, 22, 51),\n",
       " datetime.datetime(2020, 1, 4, 23, 2, 31),\n",
       " datetime.datetime(2020, 1, 5, 1, 54, 44),\n",
       " datetime.datetime(2020, 1, 4, 23, 36, 59),\n",
       " datetime.datetime(2020, 1, 4, 21, 37, 27),\n",
       " datetime.datetime(2020, 1, 4, 21, 49, 25),\n",
       " datetime.datetime(2020, 1, 4, 23, 24, 50),\n",
       " datetime.datetime(2020, 1, 5, 2, 49),\n",
       " datetime.datetime(2020, 1, 4, 23, 15, 34),\n",
       " datetime.datetime(2020, 1, 5, 1, 14, 40),\n",
       " datetime.datetime(2020, 1, 4, 23, 16),\n",
       " datetime.datetime(2020, 1, 5, 1, 54, 42),\n",
       " datetime.datetime(2020, 1, 5, 0, 31, 18),\n",
       " datetime.datetime(2020, 1, 4, 22, 48, 15),\n",
       " datetime.datetime(2020, 1, 4, 18, 36, 55),\n",
       " datetime.datetime(2020, 1, 4, 21, 48, 33),\n",
       " datetime.datetime(2020, 1, 5, 2, 7, 33),\n",
       " datetime.datetime(2020, 1, 5, 3, 16, 19),\n",
       " datetime.datetime(2020, 1, 5, 3, 25, 27),\n",
       " datetime.datetime(2020, 1, 4, 23, 1, 39),\n",
       " datetime.datetime(2020, 1, 4, 21, 45, 31),\n",
       " datetime.datetime(2020, 1, 4, 23, 53, 2),\n",
       " datetime.datetime(2020, 1, 5, 1, 59, 8),\n",
       " datetime.datetime(2020, 1, 4, 22, 54, 6),\n",
       " datetime.datetime(2020, 1, 5, 2, 8, 12),\n",
       " datetime.datetime(2020, 1, 5, 0, 18, 26),\n",
       " datetime.datetime(2020, 1, 5, 0, 33, 22),\n",
       " datetime.datetime(2020, 1, 4, 22, 1, 55),\n",
       " datetime.datetime(2020, 1, 5, 1, 42, 25),\n",
       " datetime.datetime(2020, 1, 4, 22, 28, 19),\n",
       " datetime.datetime(2020, 1, 4, 20, 10, 42),\n",
       " datetime.datetime(2020, 1, 5, 1, 56, 48),\n",
       " datetime.datetime(2020, 1, 4, 22, 20, 28),\n",
       " datetime.datetime(2020, 1, 4, 21, 38, 20),\n",
       " datetime.datetime(2020, 1, 5, 5, 0, 53),\n",
       " datetime.datetime(2020, 1, 5, 2, 10, 40),\n",
       " datetime.datetime(2020, 1, 4, 22, 55, 10),\n",
       " datetime.datetime(2020, 1, 5, 0, 28),\n",
       " datetime.datetime(2020, 1, 5, 2, 28, 24),\n",
       " datetime.datetime(2020, 1, 4, 23, 4, 36),\n",
       " datetime.datetime(2020, 1, 5, 3, 52, 25),\n",
       " datetime.datetime(2020, 1, 5, 0, 53, 26),\n",
       " datetime.datetime(2020, 1, 5, 2, 43, 4),\n",
       " datetime.datetime(2020, 1, 4, 20, 30, 17),\n",
       " datetime.datetime(2020, 1, 5, 0, 49, 24),\n",
       " datetime.datetime(2020, 1, 4, 21, 5, 44),\n",
       " datetime.datetime(2020, 1, 4, 20, 13, 56),\n",
       " datetime.datetime(2020, 1, 4, 22, 25, 56),\n",
       " datetime.datetime(2020, 1, 4, 23, 31, 22),\n",
       " datetime.datetime(2020, 1, 4, 20, 18, 40),\n",
       " datetime.datetime(2020, 1, 4, 23, 56, 29),\n",
       " datetime.datetime(2020, 1, 5, 1, 59, 12),\n",
       " datetime.datetime(2020, 1, 4, 23, 19, 49),\n",
       " datetime.datetime(2020, 1, 4, 23, 38),\n",
       " datetime.datetime(2020, 1, 4, 19, 51, 12),\n",
       " datetime.datetime(2020, 1, 5, 2, 44, 37),\n",
       " datetime.datetime(2020, 1, 5, 3, 29, 40),\n",
       " datetime.datetime(2020, 1, 4, 17, 35, 54),\n",
       " datetime.datetime(2020, 1, 5, 1, 48),\n",
       " datetime.datetime(2020, 1, 5, 3, 37, 30),\n",
       " datetime.datetime(2020, 1, 5, 0, 38, 47),\n",
       " datetime.datetime(2020, 1, 5, 1, 41, 23),\n",
       " datetime.datetime(2020, 1, 5, 0, 2, 52),\n",
       " datetime.datetime(2020, 1, 4, 23, 34, 11),\n",
       " datetime.datetime(2020, 1, 5, 0, 13, 42),\n",
       " datetime.datetime(2020, 1, 5, 1, 11, 8),\n",
       " datetime.datetime(2020, 1, 5, 3, 36, 46),\n",
       " datetime.datetime(2020, 1, 4, 23, 53, 51),\n",
       " datetime.datetime(2020, 1, 5, 1, 2, 33),\n",
       " datetime.datetime(2020, 1, 5, 4, 47, 59),\n",
       " datetime.datetime(2020, 1, 4, 22, 31, 26),\n",
       " datetime.datetime(2020, 1, 4, 23, 50, 35),\n",
       " datetime.datetime(2020, 1, 5, 4, 42, 21),\n",
       " datetime.datetime(2020, 1, 4, 16, 19, 39),\n",
       " datetime.datetime(2020, 1, 5, 1, 18, 40),\n",
       " datetime.datetime(2020, 1, 4, 23, 52, 22),\n",
       " datetime.datetime(2020, 1, 4, 22, 24, 7),\n",
       " datetime.datetime(2020, 1, 4, 23, 17, 29),\n",
       " datetime.datetime(2020, 1, 4, 22, 47, 26),\n",
       " datetime.datetime(2020, 1, 5, 0, 21, 37),\n",
       " datetime.datetime(2020, 1, 4, 20, 27, 7),\n",
       " datetime.datetime(2020, 1, 5, 1, 6, 29),\n",
       " datetime.datetime(2020, 1, 4, 23, 53, 28),\n",
       " datetime.datetime(2020, 1, 5, 1, 35, 10),\n",
       " datetime.datetime(2020, 1, 4, 22, 10, 2),\n",
       " datetime.datetime(2020, 1, 4, 20, 38, 5),\n",
       " datetime.datetime(2020, 1, 5, 1, 23, 34),\n",
       " datetime.datetime(2020, 1, 5, 1, 55, 3),\n",
       " datetime.datetime(2020, 1, 5, 3, 47, 17),\n",
       " datetime.datetime(2020, 1, 5, 3, 33, 53),\n",
       " datetime.datetime(2020, 1, 4, 21, 0, 57),\n",
       " datetime.datetime(2020, 1, 5, 0, 21, 4),\n",
       " datetime.datetime(2020, 1, 5, 3, 47, 33),\n",
       " datetime.datetime(2020, 1, 5, 2, 31, 5),\n",
       " datetime.datetime(2020, 1, 4, 19, 36, 17),\n",
       " datetime.datetime(2020, 1, 4, 21, 5, 48),\n",
       " datetime.datetime(2020, 1, 4, 19, 43, 13),\n",
       " datetime.datetime(2020, 1, 5, 3, 22, 10),\n",
       " datetime.datetime(2020, 1, 5, 0, 1, 7),\n",
       " datetime.datetime(2020, 1, 4, 23, 56, 53),\n",
       " datetime.datetime(2020, 1, 4, 22, 1, 26),\n",
       " datetime.datetime(2020, 1, 4, 19, 8, 39),\n",
       " datetime.datetime(2020, 1, 4, 18, 58, 9),\n",
       " datetime.datetime(2020, 1, 5, 6, 44, 15),\n",
       " datetime.datetime(2020, 1, 4, 22, 3, 24),\n",
       " datetime.datetime(2020, 1, 4, 21, 15, 13),\n",
       " datetime.datetime(2020, 1, 5, 0, 41, 40),\n",
       " datetime.datetime(2020, 1, 4, 21, 32, 28),\n",
       " datetime.datetime(2020, 1, 5, 6, 16, 39),\n",
       " datetime.datetime(2020, 1, 5, 1, 39, 57),\n",
       " datetime.datetime(2020, 1, 5, 2, 42, 26),\n",
       " datetime.datetime(2020, 1, 4, 23, 39, 25),\n",
       " datetime.datetime(2020, 1, 5, 0, 32, 53),\n",
       " datetime.datetime(2020, 1, 5, 3, 16, 51),\n",
       " datetime.datetime(2020, 1, 4, 21, 46, 41),\n",
       " datetime.datetime(2020, 1, 5, 1, 51, 13),\n",
       " datetime.datetime(2020, 1, 5, 5, 31, 20),\n",
       " datetime.datetime(2020, 1, 4, 23, 45, 45),\n",
       " datetime.datetime(2020, 1, 5, 3, 4, 21),\n",
       " datetime.datetime(2020, 1, 5, 1, 20, 50),\n",
       " datetime.datetime(2020, 1, 4, 19, 56, 36),\n",
       " datetime.datetime(2020, 1, 5, 1, 26, 29),\n",
       " datetime.datetime(2020, 1, 5, 2, 18, 55),\n",
       " datetime.datetime(2020, 1, 4, 23, 40, 28),\n",
       " datetime.datetime(2020, 1, 5, 0, 39, 59),\n",
       " datetime.datetime(2020, 1, 4, 23, 12, 17),\n",
       " datetime.datetime(2020, 1, 5, 1, 35, 40),\n",
       " datetime.datetime(2020, 1, 5, 3, 55, 6),\n",
       " datetime.datetime(2020, 1, 4, 22, 34, 9),\n",
       " datetime.datetime(2020, 1, 4, 19, 47, 24),\n",
       " datetime.datetime(2020, 1, 4, 22, 24, 54),\n",
       " datetime.datetime(2020, 1, 5, 4, 44, 48),\n",
       " datetime.datetime(2020, 1, 5, 5, 2, 35),\n",
       " datetime.datetime(2020, 1, 4, 22, 48, 8),\n",
       " datetime.datetime(2020, 1, 4, 18, 30, 30),\n",
       " datetime.datetime(2020, 1, 5, 0, 2, 23),\n",
       " datetime.datetime(2020, 1, 4, 23, 40, 21),\n",
       " datetime.datetime(2020, 1, 5, 0, 54, 43),\n",
       " datetime.datetime(2020, 1, 5, 0, 29, 33),\n",
       " datetime.datetime(2020, 1, 5, 0, 11, 42),\n",
       " datetime.datetime(2020, 1, 4, 23, 5, 56),\n",
       " datetime.datetime(2020, 1, 4, 18, 43, 19),\n",
       " datetime.datetime(2020, 1, 5, 2, 46, 38),\n",
       " datetime.datetime(2020, 1, 4, 20, 35, 30),\n",
       " datetime.datetime(2020, 1, 5, 2, 4, 33),\n",
       " datetime.datetime(2020, 1, 4, 22, 1, 14),\n",
       " datetime.datetime(2020, 1, 5, 4, 51, 41),\n",
       " datetime.datetime(2020, 1, 4, 22, 30, 1),\n",
       " datetime.datetime(2020, 1, 4, 20, 58, 26),\n",
       " datetime.datetime(2020, 1, 4, 18, 50, 48),\n",
       " datetime.datetime(2020, 1, 4, 21, 8, 39),\n",
       " datetime.datetime(2020, 1, 4, 21, 40, 15),\n",
       " datetime.datetime(2020, 1, 5, 3, 37, 40),\n",
       " datetime.datetime(2020, 1, 4, 23, 17, 15),\n",
       " datetime.datetime(2020, 1, 5, 0, 54, 24),\n",
       " datetime.datetime(2020, 1, 4, 23, 7, 47),\n",
       " datetime.datetime(2020, 1, 4, 21, 56, 43),\n",
       " datetime.datetime(2020, 1, 4, 19, 49, 1),\n",
       " datetime.datetime(2020, 1, 4, 23, 18, 31),\n",
       " datetime.datetime(2020, 1, 4, 22, 27, 25),\n",
       " datetime.datetime(2020, 1, 4, 23, 27, 57),\n",
       " datetime.datetime(2020, 1, 4, 23, 19, 30),\n",
       " datetime.datetime(2020, 1, 4, 23, 19, 14),\n",
       " datetime.datetime(2020, 1, 4, 21, 25, 45),\n",
       " datetime.datetime(2020, 1, 4, 21, 4, 58),\n",
       " datetime.datetime(2020, 1, 5, 1, 29, 39),\n",
       " datetime.datetime(2020, 1, 4, 19, 37, 57),\n",
       " datetime.datetime(2020, 1, 4, 22, 32, 55),\n",
       " datetime.datetime(2020, 1, 5, 2, 41, 46),\n",
       " datetime.datetime(2020, 1, 5, 1, 44, 32),\n",
       " datetime.datetime(2020, 1, 5, 0, 46, 22),\n",
       " datetime.datetime(2020, 1, 4, 23, 11, 14),\n",
       " datetime.datetime(2020, 1, 4, 20, 34),\n",
       " datetime.datetime(2020, 1, 5, 0, 37, 10),\n",
       " datetime.datetime(2020, 1, 4, 23, 8, 6),\n",
       " datetime.datetime(2020, 1, 4, 21, 35, 6),\n",
       " datetime.datetime(2020, 1, 4, 22, 5, 3),\n",
       " datetime.datetime(2020, 1, 4, 22, 13, 54),\n",
       " datetime.datetime(2020, 1, 5, 0, 42, 36),\n",
       " datetime.datetime(2020, 1, 4, 21, 27, 9),\n",
       " datetime.datetime(2020, 1, 4, 20, 32, 44),\n",
       " datetime.datetime(2020, 1, 5, 0, 37, 42),\n",
       " datetime.datetime(2020, 1, 4, 23, 34, 57),\n",
       " datetime.datetime(2020, 1, 4, 21, 14, 9),\n",
       " datetime.datetime(2020, 1, 4, 20, 42, 5),\n",
       " datetime.datetime(2020, 1, 5, 0, 27, 19),\n",
       " datetime.datetime(2020, 1, 4, 23, 59, 14),\n",
       " datetime.datetime(2020, 1, 5, 1, 8, 14),\n",
       " datetime.datetime(2020, 1, 4, 23, 8, 39),\n",
       " datetime.datetime(2020, 1, 5, 3, 51, 19),\n",
       " datetime.datetime(2020, 1, 4, 21, 50, 52),\n",
       " datetime.datetime(2020, 1, 4, 17, 13, 13),\n",
       " datetime.datetime(2020, 1, 4, 20, 53, 45),\n",
       " datetime.datetime(2020, 1, 4, 20, 55, 24),\n",
       " datetime.datetime(2020, 1, 4, 23, 2, 6),\n",
       " datetime.datetime(2020, 1, 5, 2, 54, 57),\n",
       " datetime.datetime(2020, 1, 5, 1, 24, 10),\n",
       " datetime.datetime(2020, 1, 4, 19, 57, 52),\n",
       " datetime.datetime(2020, 1, 4, 22, 33, 48),\n",
       " datetime.datetime(2020, 1, 5, 6, 24, 16),\n",
       " datetime.datetime(2020, 1, 5, 1, 23, 53),\n",
       " datetime.datetime(2020, 1, 5, 1, 53, 3),\n",
       " datetime.datetime(2020, 1, 4, 21, 21, 12),\n",
       " datetime.datetime(2020, 1, 5, 4, 46, 21),\n",
       " datetime.datetime(2020, 1, 4, 23, 19, 16),\n",
       " datetime.datetime(2020, 1, 4, 19, 16, 58),\n",
       " datetime.datetime(2020, 1, 5, 1, 58, 55),\n",
       " datetime.datetime(2020, 1, 4, 22, 20, 56),\n",
       " datetime.datetime(2020, 1, 4, 23, 38, 3),\n",
       " datetime.datetime(2020, 1, 4, 20, 14, 6),\n",
       " datetime.datetime(2020, 1, 4, 23, 20, 35),\n",
       " datetime.datetime(2020, 1, 5, 2, 39, 55),\n",
       " datetime.datetime(2020, 1, 4, 18, 27, 36),\n",
       " datetime.datetime(2020, 1, 5, 0, 30, 49),\n",
       " datetime.datetime(2020, 1, 5, 2, 0, 27),\n",
       " datetime.datetime(2020, 1, 5, 2, 21, 12),\n",
       " datetime.datetime(2020, 1, 5, 0, 13, 1),\n",
       " datetime.datetime(2020, 1, 5, 2, 15),\n",
       " datetime.datetime(2020, 1, 4, 19, 45, 1),\n",
       " datetime.datetime(2020, 1, 4, 18, 3, 27),\n",
       " datetime.datetime(2020, 1, 5, 0, 59, 6),\n",
       " datetime.datetime(2020, 1, 5, 7, 1, 5),\n",
       " datetime.datetime(2020, 1, 5, 1, 21, 52),\n",
       " datetime.datetime(2020, 1, 4, 23, 34, 26),\n",
       " datetime.datetime(2020, 1, 5, 1, 24, 9),\n",
       " datetime.datetime(2020, 1, 5, 2, 4, 45),\n",
       " datetime.datetime(2020, 1, 5, 1, 2, 15),\n",
       " datetime.datetime(2020, 1, 4, 23, 29, 53),\n",
       " datetime.datetime(2020, 1, 5, 0, 23, 7),\n",
       " datetime.datetime(2020, 1, 5, 3, 41, 35),\n",
       " datetime.datetime(2020, 1, 5, 4, 24, 10),\n",
       " datetime.datetime(2020, 1, 5, 1, 10, 19),\n",
       " datetime.datetime(2020, 1, 5, 1, 16, 45),\n",
       " datetime.datetime(2020, 1, 5, 0, 17, 53),\n",
       " datetime.datetime(2020, 1, 4, 23, 19, 15),\n",
       " datetime.datetime(2020, 1, 4, 20, 46, 24),\n",
       " datetime.datetime(2020, 1, 4, 22, 8, 57),\n",
       " datetime.datetime(2020, 1, 5, 0, 41, 11),\n",
       " datetime.datetime(2020, 1, 4, 20, 2, 9),\n",
       " datetime.datetime(2020, 1, 4, 22, 34, 55),\n",
       " datetime.datetime(2020, 1, 5, 1, 21, 51),\n",
       " datetime.datetime(2020, 1, 4, 16, 42, 49),\n",
       " datetime.datetime(2020, 1, 4, 21, 36, 25),\n",
       " datetime.datetime(2020, 1, 5, 1, 54, 44),\n",
       " datetime.datetime(2020, 1, 4, 21, 40, 23),\n",
       " datetime.datetime(2020, 1, 5, 5, 0, 36),\n",
       " datetime.datetime(2020, 1, 5, 1, 22, 29),\n",
       " datetime.datetime(2020, 1, 4, 22, 35, 31),\n",
       " datetime.datetime(2020, 1, 5, 0, 48, 41),\n",
       " datetime.datetime(2020, 1, 5, 4, 5, 47),\n",
       " datetime.datetime(2020, 1, 5, 1, 51, 54),\n",
       " datetime.datetime(2020, 1, 5, 0, 40, 12),\n",
       " datetime.datetime(2020, 1, 4, 22, 19, 53),\n",
       " datetime.datetime(2020, 1, 5, 9, 18, 21),\n",
       " datetime.datetime(2020, 1, 4, 18, 41, 16),\n",
       " datetime.datetime(2020, 1, 4, 20, 14, 47),\n",
       " datetime.datetime(2020, 1, 4, 21, 59, 12),\n",
       " datetime.datetime(2020, 1, 4, 22, 25, 38),\n",
       " datetime.datetime(2020, 1, 5, 0, 33, 13),\n",
       " datetime.datetime(2020, 1, 4, 21, 13, 35),\n",
       " datetime.datetime(2020, 1, 5, 2, 4, 56),\n",
       " datetime.datetime(2020, 1, 4, 23, 27, 3),\n",
       " datetime.datetime(2020, 1, 5, 1, 58, 28),\n",
       " datetime.datetime(2020, 1, 5, 0, 47, 43),\n",
       " datetime.datetime(2020, 1, 5, 3, 41, 25),\n",
       " datetime.datetime(2020, 1, 4, 22, 38, 45),\n",
       " datetime.datetime(2020, 1, 5, 3, 4, 24),\n",
       " datetime.datetime(2020, 1, 4, 20, 28, 33),\n",
       " datetime.datetime(2020, 1, 5, 3, 50, 36),\n",
       " datetime.datetime(2020, 1, 4, 20, 41, 26),\n",
       " datetime.datetime(2020, 1, 5, 2, 1, 58),\n",
       " datetime.datetime(2020, 1, 4, 23, 36, 36),\n",
       " datetime.datetime(2020, 1, 5, 0, 37),\n",
       " datetime.datetime(2020, 1, 4, 23, 31, 34),\n",
       " datetime.datetime(2020, 1, 5, 1, 43, 35),\n",
       " datetime.datetime(2020, 1, 4, 21, 18, 39),\n",
       " datetime.datetime(2020, 1, 5, 3, 51, 21),\n",
       " datetime.datetime(2020, 1, 4, 22, 18, 16),\n",
       " datetime.datetime(2020, 1, 4, 22, 47, 17),\n",
       " datetime.datetime(2020, 1, 5, 7, 1, 38),\n",
       " datetime.datetime(2020, 1, 4, 23, 22, 31),\n",
       " datetime.datetime(2020, 1, 4, 20, 47, 11),\n",
       " datetime.datetime(2020, 1, 5, 3, 0, 32),\n",
       " datetime.datetime(2020, 1, 5, 0, 43, 58),\n",
       " datetime.datetime(2020, 1, 5, 0, 52, 10),\n",
       " datetime.datetime(2020, 1, 4, 20, 48, 19),\n",
       " datetime.datetime(2020, 1, 4, 20, 12, 26),\n",
       " datetime.datetime(2020, 1, 4, 21, 43, 10),\n",
       " datetime.datetime(2020, 1, 5, 1, 41, 14),\n",
       " datetime.datetime(2020, 1, 4, 23, 15, 39),\n",
       " datetime.datetime(2020, 1, 4, 21, 52, 57),\n",
       " datetime.datetime(2020, 1, 4, 18, 31, 40),\n",
       " datetime.datetime(2020, 1, 5, 6, 5, 25),\n",
       " datetime.datetime(2020, 1, 4, 19, 32, 43),\n",
       " datetime.datetime(2020, 1, 4, 23, 19, 49),\n",
       " datetime.datetime(2020, 1, 5, 6, 54, 18),\n",
       " datetime.datetime(2020, 1, 5, 3, 7, 57),\n",
       " datetime.datetime(2020, 1, 4, 21, 36, 1),\n",
       " datetime.datetime(2020, 1, 5, 1, 14, 43),\n",
       " datetime.datetime(2020, 1, 5, 0, 1, 58),\n",
       " datetime.datetime(2020, 1, 4, 17, 23, 1),\n",
       " datetime.datetime(2020, 1, 5, 0, 49, 29),\n",
       " datetime.datetime(2020, 1, 4, 22, 16, 30),\n",
       " datetime.datetime(2020, 1, 4, 22, 46, 1),\n",
       " datetime.datetime(2020, 1, 4, 17, 37, 7),\n",
       " datetime.datetime(2020, 1, 4, 21, 57, 48),\n",
       " datetime.datetime(2020, 1, 5, 0, 8, 7),\n",
       " datetime.datetime(2020, 1, 5, 1, 24, 52),\n",
       " datetime.datetime(2020, 1, 4, 21, 41, 52),\n",
       " datetime.datetime(2020, 1, 4, 22, 59, 3),\n",
       " datetime.datetime(2020, 1, 4, 21, 21, 49),\n",
       " datetime.datetime(2020, 1, 5, 4, 34, 10),\n",
       " datetime.datetime(2020, 1, 5, 2, 29),\n",
       " datetime.datetime(2020, 1, 5, 7, 27, 47),\n",
       " datetime.datetime(2020, 1, 4, 21, 45, 32),\n",
       " datetime.datetime(2020, 1, 4, 20, 28, 46),\n",
       " datetime.datetime(2020, 1, 5, 2, 16, 57),\n",
       " datetime.datetime(2020, 1, 4, 23, 20, 33),\n",
       " datetime.datetime(2020, 1, 4, 22, 44, 36),\n",
       " datetime.datetime(2020, 1, 4, 18, 45, 24),\n",
       " datetime.datetime(2020, 1, 5, 1, 55, 24),\n",
       " datetime.datetime(2020, 1, 5, 1, 11, 44),\n",
       " datetime.datetime(2020, 1, 5, 4, 12, 13),\n",
       " datetime.datetime(2020, 1, 5, 5, 2, 38),\n",
       " datetime.datetime(2020, 1, 4, 23, 6, 49),\n",
       " datetime.datetime(2020, 1, 4, 19, 1, 11),\n",
       " datetime.datetime(2020, 1, 5, 0, 50, 7),\n",
       " datetime.datetime(2020, 1, 5, 2, 0, 55),\n",
       " datetime.datetime(2020, 1, 4, 19, 17, 56),\n",
       " datetime.datetime(2020, 1, 4, 22, 58),\n",
       " datetime.datetime(2020, 1, 4, 23, 14, 15),\n",
       " datetime.datetime(2020, 1, 5, 2, 26, 55),\n",
       " datetime.datetime(2020, 1, 4, 20, 5, 1),\n",
       " datetime.datetime(2020, 1, 5, 0, 42, 48),\n",
       " datetime.datetime(2020, 1, 4, 22, 32, 49),\n",
       " datetime.datetime(2020, 1, 4, 23, 44, 21),\n",
       " datetime.datetime(2020, 1, 4, 20, 21),\n",
       " datetime.datetime(2020, 1, 5, 2, 27, 8),\n",
       " datetime.datetime(2020, 1, 4, 22, 14, 29),\n",
       " datetime.datetime(2020, 1, 5, 2, 46, 23),\n",
       " datetime.datetime(2020, 1, 4, 19, 29, 48),\n",
       " datetime.datetime(2020, 1, 5, 1, 1, 33),\n",
       " datetime.datetime(2020, 1, 5, 0, 40, 16),\n",
       " datetime.datetime(2020, 1, 5, 2, 12, 56),\n",
       " datetime.datetime(2020, 1, 4, 21, 54, 38),\n",
       " datetime.datetime(2020, 1, 5, 2, 52, 20),\n",
       " datetime.datetime(2020, 1, 5, 4, 36, 21),\n",
       " datetime.datetime(2020, 1, 4, 22, 32, 6),\n",
       " datetime.datetime(2020, 1, 5, 3, 17, 6),\n",
       " datetime.datetime(2020, 1, 4, 23, 7, 48),\n",
       " datetime.datetime(2020, 1, 4, 21, 30, 42),\n",
       " datetime.datetime(2020, 1, 5, 1, 33, 56),\n",
       " datetime.datetime(2020, 1, 4, 20, 27, 13),\n",
       " datetime.datetime(2020, 1, 5, 4, 7, 56),\n",
       " datetime.datetime(2020, 1, 4, 23, 32, 52),\n",
       " datetime.datetime(2020, 1, 4, 23, 55, 40),\n",
       " datetime.datetime(2020, 1, 4, 22, 5, 27),\n",
       " datetime.datetime(2020, 1, 5, 3, 50, 35),\n",
       " datetime.datetime(2020, 1, 4, 23, 20, 41),\n",
       " datetime.datetime(2020, 1, 4, 22, 50, 32),\n",
       " datetime.datetime(2020, 1, 4, 22, 27, 35),\n",
       " datetime.datetime(2020, 1, 4, 19, 16, 26),\n",
       " datetime.datetime(2020, 1, 5, 0, 31, 2),\n",
       " datetime.datetime(2020, 1, 4, 23, 45, 26),\n",
       " datetime.datetime(2020, 1, 4, 23, 39, 35),\n",
       " datetime.datetime(2020, 1, 5, 3, 17, 51),\n",
       " datetime.datetime(2020, 1, 4, 19, 53, 51),\n",
       " datetime.datetime(2020, 1, 5, 0, 25, 32),\n",
       " datetime.datetime(2020, 1, 5, 2, 36, 53),\n",
       " datetime.datetime(2020, 1, 4, 23, 26, 57),\n",
       " datetime.datetime(2020, 1, 5, 2, 41, 34),\n",
       " datetime.datetime(2020, 1, 4, 19, 38, 48),\n",
       " datetime.datetime(2020, 1, 4, 23, 27),\n",
       " datetime.datetime(2020, 1, 4, 20, 40, 29),\n",
       " datetime.datetime(2020, 1, 5, 0, 7, 57),\n",
       " datetime.datetime(2020, 1, 5, 0, 29, 17),\n",
       " datetime.datetime(2020, 1, 4, 23, 53, 27),\n",
       " datetime.datetime(2020, 1, 5, 4, 49, 33),\n",
       " datetime.datetime(2020, 1, 4, 22, 54, 59),\n",
       " datetime.datetime(2020, 1, 5, 0, 7, 17),\n",
       " datetime.datetime(2020, 1, 4, 17, 2, 7),\n",
       " datetime.datetime(2020, 1, 4, 20, 27, 45),\n",
       " datetime.datetime(2020, 1, 4, 23, 43, 53),\n",
       " datetime.datetime(2020, 1, 5, 0, 23, 36),\n",
       " datetime.datetime(2020, 1, 4, 23, 59, 31),\n",
       " datetime.datetime(2020, 1, 5, 2, 28, 24),\n",
       " datetime.datetime(2020, 1, 4, 23, 14, 11),\n",
       " datetime.datetime(2020, 1, 5, 3, 35, 26),\n",
       " datetime.datetime(2020, 1, 5, 0, 5, 48),\n",
       " datetime.datetime(2020, 1, 4, 21, 37, 18),\n",
       " datetime.datetime(2020, 1, 4, 21, 53, 55),\n",
       " datetime.datetime(2020, 1, 5, 0, 48, 19),\n",
       " datetime.datetime(2020, 1, 4, 23, 20, 16),\n",
       " datetime.datetime(2020, 1, 5, 0, 48, 28),\n",
       " datetime.datetime(2020, 1, 4, 21, 43, 1),\n",
       " datetime.datetime(2020, 1, 5, 0, 28, 3),\n",
       " datetime.datetime(2020, 1, 5, 2, 0),\n",
       " datetime.datetime(2020, 1, 4, 21, 1, 33),\n",
       " datetime.datetime(2020, 1, 4, 20, 36, 20),\n",
       " datetime.datetime(2020, 1, 5, 0, 7, 32),\n",
       " datetime.datetime(2020, 1, 4, 20, 37, 6),\n",
       " datetime.datetime(2020, 1, 5, 5, 19, 51),\n",
       " datetime.datetime(2020, 1, 5, 3, 4, 57),\n",
       " datetime.datetime(2020, 1, 4, 23, 57, 46),\n",
       " datetime.datetime(2020, 1, 5, 2, 54, 47),\n",
       " datetime.datetime(2020, 1, 4, 22, 31, 41),\n",
       " datetime.datetime(2020, 1, 4, 22, 20, 36),\n",
       " datetime.datetime(2020, 1, 5, 6, 33, 4),\n",
       " datetime.datetime(2020, 1, 5, 4, 10, 6),\n",
       " datetime.datetime(2020, 1, 5, 4, 30, 43),\n",
       " datetime.datetime(2020, 1, 5, 1, 26, 35),\n",
       " datetime.datetime(2020, 1, 4, 19, 38, 36),\n",
       " datetime.datetime(2020, 1, 4, 23, 9, 1),\n",
       " datetime.datetime(2020, 1, 4, 22, 42, 51),\n",
       " datetime.datetime(2020, 1, 5, 0, 21, 17),\n",
       " datetime.datetime(2020, 1, 5, 2, 18, 51),\n",
       " datetime.datetime(2020, 1, 5, 0, 35, 17),\n",
       " datetime.datetime(2020, 1, 5, 2, 36, 34),\n",
       " datetime.datetime(2020, 1, 4, 23, 15, 19),\n",
       " datetime.datetime(2020, 1, 5, 1, 8, 52),\n",
       " datetime.datetime(2020, 1, 4, 22, 48, 8),\n",
       " datetime.datetime(2020, 1, 5, 5, 1, 20),\n",
       " datetime.datetime(2020, 1, 4, 22, 38, 46),\n",
       " datetime.datetime(2020, 1, 5, 2, 5, 40),\n",
       " datetime.datetime(2020, 1, 5, 4, 1, 18),\n",
       " datetime.datetime(2020, 1, 5, 1, 32, 56),\n",
       " datetime.datetime(2020, 1, 5, 4, 4, 7),\n",
       " datetime.datetime(2020, 1, 5, 2, 45, 23),\n",
       " datetime.datetime(2020, 1, 4, 21, 4, 58),\n",
       " datetime.datetime(2020, 1, 4, 23, 56, 16),\n",
       " datetime.datetime(2020, 1, 5, 4, 2, 12),\n",
       " datetime.datetime(2020, 1, 5, 0, 48, 25),\n",
       " datetime.datetime(2020, 1, 4, 20, 52, 57),\n",
       " datetime.datetime(2020, 1, 5, 3, 31),\n",
       " datetime.datetime(2020, 1, 4, 23, 12, 47),\n",
       " datetime.datetime(2020, 1, 4, 23, 42, 37),\n",
       " datetime.datetime(2020, 1, 4, 21, 49, 19),\n",
       " datetime.datetime(2020, 1, 5, 2, 27, 18),\n",
       " datetime.datetime(2020, 1, 4, 20, 8, 57),\n",
       " datetime.datetime(2020, 1, 5, 1, 55, 56),\n",
       " datetime.datetime(2020, 1, 5, 1, 53, 48),\n",
       " datetime.datetime(2020, 1, 4, 22, 24, 21),\n",
       " datetime.datetime(2020, 1, 5, 0, 42, 7),\n",
       " datetime.datetime(2020, 1, 5, 1, 59, 10),\n",
       " datetime.datetime(2020, 1, 5, 1, 33, 48),\n",
       " datetime.datetime(2020, 1, 5, 3, 22, 39),\n",
       " datetime.datetime(2020, 1, 5, 0, 22, 34),\n",
       " datetime.datetime(2020, 1, 4, 22, 59, 42),\n",
       " datetime.datetime(2020, 1, 5, 2, 40, 2),\n",
       " datetime.datetime(2020, 1, 5, 4, 0, 41),\n",
       " datetime.datetime(2020, 1, 4, 20, 54, 34),\n",
       " datetime.datetime(2020, 1, 4, 23, 52, 35),\n",
       " datetime.datetime(2020, 1, 5, 5, 57, 54),\n",
       " datetime.datetime(2020, 1, 5, 0, 29, 54),\n",
       " datetime.datetime(2020, 1, 4, 19, 26, 17),\n",
       " datetime.datetime(2020, 1, 4, 22, 9, 38),\n",
       " datetime.datetime(2020, 1, 5, 1, 16, 45),\n",
       " datetime.datetime(2020, 1, 5, 0, 11, 8),\n",
       " datetime.datetime(2020, 1, 5, 2, 21, 55),\n",
       " datetime.datetime(2020, 1, 5, 1, 29, 6),\n",
       " datetime.datetime(2020, 1, 5, 0, 43, 38),\n",
       " datetime.datetime(2020, 1, 4, 23, 53),\n",
       " datetime.datetime(2020, 1, 4, 20, 31, 32),\n",
       " datetime.datetime(2020, 1, 5, 2, 34, 49),\n",
       " datetime.datetime(2020, 1, 4, 21, 55, 35),\n",
       " datetime.datetime(2020, 1, 4, 23, 20, 15),\n",
       " datetime.datetime(2020, 1, 4, 22, 14, 12),\n",
       " datetime.datetime(2020, 1, 5, 3, 24, 48),\n",
       " datetime.datetime(2020, 1, 5, 2, 14, 17),\n",
       " datetime.datetime(2020, 1, 4, 23, 34, 49),\n",
       " datetime.datetime(2020, 1, 5, 2, 7, 44),\n",
       " datetime.datetime(2020, 1, 5, 4, 51, 56),\n",
       " datetime.datetime(2020, 1, 4, 23, 53, 49),\n",
       " datetime.datetime(2020, 1, 5, 4, 40, 17),\n",
       " datetime.datetime(2020, 1, 5, 2, 9, 52),\n",
       " datetime.datetime(2020, 1, 4, 20, 7, 37),\n",
       " datetime.datetime(2020, 1, 4, 19, 4, 42),\n",
       " datetime.datetime(2020, 1, 4, 20, 59, 28),\n",
       " datetime.datetime(2020, 1, 5, 4, 35, 15),\n",
       " datetime.datetime(2020, 1, 5, 3, 25, 32),\n",
       " datetime.datetime(2020, 1, 4, 18, 34, 20),\n",
       " datetime.datetime(2020, 1, 4, 20, 51, 9),\n",
       " datetime.datetime(2020, 1, 5, 2, 5, 14),\n",
       " datetime.datetime(2020, 1, 4, 17, 38, 27),\n",
       " datetime.datetime(2020, 1, 4, 22, 8, 47),\n",
       " datetime.datetime(2020, 1, 4, 22, 10, 45),\n",
       " datetime.datetime(2020, 1, 5, 1, 56, 25),\n",
       " datetime.datetime(2020, 1, 5, 0, 54, 33),\n",
       " datetime.datetime(2020, 1, 4, 23, 52, 50),\n",
       " datetime.datetime(2020, 1, 4, 20, 31, 49),\n",
       " datetime.datetime(2020, 1, 4, 23, 59),\n",
       " datetime.datetime(2020, 1, 5, 3, 26, 32),\n",
       " datetime.datetime(2020, 1, 5, 2, 22, 16),\n",
       " datetime.datetime(2020, 1, 5, 2, 58, 53),\n",
       " datetime.datetime(2020, 1, 4, 22, 10, 23),\n",
       " datetime.datetime(2020, 1, 4, 21, 42, 21),\n",
       " datetime.datetime(2020, 1, 5, 2, 48, 12),\n",
       " datetime.datetime(2020, 1, 5, 1, 47, 23),\n",
       " datetime.datetime(2020, 1, 4, 21, 48, 46),\n",
       " datetime.datetime(2020, 1, 4, 23, 0, 12),\n",
       " datetime.datetime(2020, 1, 4, 23, 16, 31),\n",
       " datetime.datetime(2020, 1, 5, 0, 58, 11),\n",
       " datetime.datetime(2020, 1, 4, 19, 34),\n",
       " datetime.datetime(2020, 1, 5, 1, 43, 52),\n",
       " datetime.datetime(2020, 1, 5, 2, 56, 57),\n",
       " datetime.datetime(2020, 1, 5, 0, 31, 45),\n",
       " datetime.datetime(2020, 1, 5, 1, 57, 41),\n",
       " datetime.datetime(2020, 1, 4, 19, 1, 47),\n",
       " datetime.datetime(2020, 1, 5, 0, 41, 41),\n",
       " datetime.datetime(2020, 1, 5, 4, 53, 49),\n",
       " datetime.datetime(2020, 1, 5, 3, 35, 25),\n",
       " datetime.datetime(2020, 1, 5, 6, 18, 17),\n",
       " datetime.datetime(2020, 1, 4, 22, 17, 7),\n",
       " datetime.datetime(2020, 1, 4, 23, 8, 31),\n",
       " datetime.datetime(2020, 1, 5, 0, 38, 26),\n",
       " datetime.datetime(2020, 1, 4, 21, 56, 32),\n",
       " datetime.datetime(2020, 1, 4, 23, 34, 55),\n",
       " datetime.datetime(2020, 1, 5, 4, 20, 30),\n",
       " datetime.datetime(2020, 1, 5, 0, 16, 18),\n",
       " datetime.datetime(2020, 1, 4, 22, 35, 33),\n",
       " datetime.datetime(2020, 1, 5, 2, 53, 9),\n",
       " datetime.datetime(2020, 1, 5, 3, 39, 28),\n",
       " datetime.datetime(2020, 1, 5, 1, 15, 41),\n",
       " datetime.datetime(2020, 1, 4, 22, 19, 42),\n",
       " datetime.datetime(2020, 1, 4, 23, 9, 18),\n",
       " datetime.datetime(2020, 1, 4, 21, 33, 37),\n",
       " datetime.datetime(2020, 1, 5, 1, 46, 35),\n",
       " datetime.datetime(2020, 1, 5, 0, 23, 15),\n",
       " datetime.datetime(2020, 1, 5, 5, 41, 44),\n",
       " datetime.datetime(2020, 1, 4, 20, 7, 49),\n",
       " datetime.datetime(2020, 1, 5, 4, 23, 24),\n",
       " datetime.datetime(2020, 1, 5, 2, 0, 52),\n",
       " datetime.datetime(2020, 1, 4, 19, 22, 3),\n",
       " datetime.datetime(2020, 1, 4, 22, 31, 44),\n",
       " datetime.datetime(2020, 1, 5, 0, 44, 35),\n",
       " datetime.datetime(2020, 1, 5, 1, 29, 48),\n",
       " datetime.datetime(2020, 1, 4, 22, 0, 5),\n",
       " datetime.datetime(2020, 1, 4, 21, 54, 54),\n",
       " datetime.datetime(2020, 1, 5, 0, 23, 46),\n",
       " datetime.datetime(2020, 1, 5, 1, 49, 5),\n",
       " datetime.datetime(2020, 1, 5, 6, 11, 23),\n",
       " datetime.datetime(2020, 1, 4, 17, 47, 51),\n",
       " datetime.datetime(2020, 1, 4, 22, 25, 34),\n",
       " datetime.datetime(2020, 1, 5, 4, 49, 3),\n",
       " datetime.datetime(2020, 1, 4, 22, 59, 13),\n",
       " datetime.datetime(2020, 1, 5, 3, 12, 2),\n",
       " datetime.datetime(2020, 1, 4, 23, 23, 29),\n",
       " datetime.datetime(2020, 1, 5, 1, 6, 27),\n",
       " datetime.datetime(2020, 1, 5, 1, 49, 5),\n",
       " datetime.datetime(2020, 1, 5, 1, 36, 43),\n",
       " datetime.datetime(2020, 1, 4, 20, 21, 32),\n",
       " datetime.datetime(2020, 1, 5, 2, 48, 24),\n",
       " datetime.datetime(2020, 1, 5, 1, 42, 9),\n",
       " datetime.datetime(2020, 1, 5, 0, 53, 49),\n",
       " datetime.datetime(2020, 1, 5, 5, 33, 21),\n",
       " datetime.datetime(2020, 1, 4, 23, 0, 1),\n",
       " datetime.datetime(2020, 1, 4, 20, 11, 28),\n",
       " datetime.datetime(2020, 1, 5, 3, 17, 55),\n",
       " datetime.datetime(2020, 1, 4, 20, 47, 55),\n",
       " datetime.datetime(2020, 1, 5, 1, 17, 54),\n",
       " datetime.datetime(2020, 1, 5, 1, 2, 58),\n",
       " datetime.datetime(2020, 1, 4, 22, 48, 8),\n",
       " datetime.datetime(2020, 1, 4, 21, 53, 27),\n",
       " datetime.datetime(2020, 1, 5, 6, 38, 18),\n",
       " datetime.datetime(2020, 1, 5, 2, 47, 8),\n",
       " datetime.datetime(2020, 1, 5, 1, 0, 36),\n",
       " datetime.datetime(2020, 1, 4, 23, 34, 11),\n",
       " datetime.datetime(2020, 1, 4, 23, 51, 49),\n",
       " datetime.datetime(2020, 1, 5, 1, 32, 39),\n",
       " datetime.datetime(2020, 1, 4, 22, 14, 49),\n",
       " datetime.datetime(2020, 1, 5, 0, 15, 48),\n",
       " datetime.datetime(2020, 1, 4, 22, 16, 33),\n",
       " datetime.datetime(2020, 1, 4, 19, 42, 11),\n",
       " datetime.datetime(2020, 1, 4, 22, 26, 45),\n",
       " datetime.datetime(2020, 1, 4, 23, 5, 45),\n",
       " datetime.datetime(2020, 1, 4, 23, 42, 30),\n",
       " datetime.datetime(2020, 1, 5, 1, 52, 18),\n",
       " datetime.datetime(2020, 1, 5, 1, 12, 57),\n",
       " datetime.datetime(2020, 1, 4, 20, 3, 32),\n",
       " datetime.datetime(2020, 1, 5, 5, 14, 9),\n",
       " datetime.datetime(2020, 1, 5, 1, 44, 37),\n",
       " datetime.datetime(2020, 1, 5, 2, 49),\n",
       " datetime.datetime(2020, 1, 4, 23, 41, 5),\n",
       " datetime.datetime(2020, 1, 5, 0, 6, 5),\n",
       " datetime.datetime(2020, 1, 5, 0, 26, 13),\n",
       " datetime.datetime(2020, 1, 5, 0, 35, 59),\n",
       " datetime.datetime(2020, 1, 5, 2, 41, 17),\n",
       " datetime.datetime(2020, 1, 4, 22, 38, 41),\n",
       " datetime.datetime(2020, 1, 4, 21, 20, 51),\n",
       " datetime.datetime(2020, 1, 4, 22, 48, 4),\n",
       " datetime.datetime(2020, 1, 4, 20, 46, 58),\n",
       " datetime.datetime(2020, 1, 4, 23, 18, 28),\n",
       " datetime.datetime(2020, 1, 4, 23, 11, 58),\n",
       " datetime.datetime(2020, 1, 5, 0, 44, 49),\n",
       " datetime.datetime(2020, 1, 4, 22, 27, 55),\n",
       " datetime.datetime(2020, 1, 5, 1, 42, 8),\n",
       " datetime.datetime(2020, 1, 5, 1, 0, 55),\n",
       " datetime.datetime(2020, 1, 4, 23, 4, 58),\n",
       " datetime.datetime(2020, 1, 5, 1, 0, 16),\n",
       " datetime.datetime(2020, 1, 5, 2, 18, 17),\n",
       " datetime.datetime(2020, 1, 5, 0, 22, 35),\n",
       " datetime.datetime(2020, 1, 5, 3, 28, 37),\n",
       " datetime.datetime(2020, 1, 5, 3, 0, 51),\n",
       " datetime.datetime(2020, 1, 5, 2, 52, 52),\n",
       " datetime.datetime(2020, 1, 5, 2, 0, 55),\n",
       " datetime.datetime(2020, 1, 5, 2, 1, 17),\n",
       " datetime.datetime(2020, 1, 5, 6, 10, 54),\n",
       " datetime.datetime(2020, 1, 5, 1, 1, 22),\n",
       " datetime.datetime(2020, 1, 5, 0, 46, 31),\n",
       " datetime.datetime(2020, 1, 5, 0, 25, 56),\n",
       " datetime.datetime(2020, 1, 5, 0, 42, 23),\n",
       " datetime.datetime(2020, 1, 5, 3, 45, 7),\n",
       " datetime.datetime(2020, 1, 5, 3, 33, 59),\n",
       " datetime.datetime(2020, 1, 5, 1, 32, 57),\n",
       " datetime.datetime(2020, 1, 4, 21, 48, 18),\n",
       " datetime.datetime(2020, 1, 4, 23, 51, 54),\n",
       " datetime.datetime(2020, 1, 5, 4, 19, 22),\n",
       " datetime.datetime(2020, 1, 4, 19, 47, 32),\n",
       " datetime.datetime(2020, 1, 5, 0, 27, 16),\n",
       " datetime.datetime(2020, 1, 4, 22, 30, 10),\n",
       " datetime.datetime(2020, 1, 5, 1, 46, 15),\n",
       " datetime.datetime(2020, 1, 5, 2, 20, 10),\n",
       " datetime.datetime(2020, 1, 5, 0, 17, 26),\n",
       " datetime.datetime(2020, 1, 4, 22, 57, 51),\n",
       " datetime.datetime(2020, 1, 5, 0, 38, 53),\n",
       " datetime.datetime(2020, 1, 5, 1, 24, 24),\n",
       " datetime.datetime(2020, 1, 5, 0, 59, 16),\n",
       " datetime.datetime(2020, 1, 4, 20, 48, 6),\n",
       " datetime.datetime(2020, 1, 5, 2, 4, 43),\n",
       " datetime.datetime(2020, 1, 5, 0, 2, 3),\n",
       " datetime.datetime(2020, 1, 5, 0, 1, 21),\n",
       " datetime.datetime(2020, 1, 4, 20, 35, 24),\n",
       " datetime.datetime(2020, 1, 5, 0, 55, 7),\n",
       " datetime.datetime(2020, 1, 4, 23, 28, 4),\n",
       " datetime.datetime(2020, 1, 4, 18, 49, 53),\n",
       " datetime.datetime(2020, 1, 4, 23, 28, 4),\n",
       " datetime.datetime(2020, 1, 4, 22, 38, 52),\n",
       " datetime.datetime(2020, 1, 5, 0, 15, 19),\n",
       " datetime.datetime(2020, 1, 4, 23, 53, 42),\n",
       " datetime.datetime(2020, 1, 5, 5, 29, 23),\n",
       " datetime.datetime(2020, 1, 4, 21, 59, 15),\n",
       " datetime.datetime(2020, 1, 5, 2, 58, 10),\n",
       " datetime.datetime(2020, 1, 4, 23, 1, 16),\n",
       " datetime.datetime(2020, 1, 5, 6, 22, 2),\n",
       " datetime.datetime(2020, 1, 5, 1, 22, 51),\n",
       " datetime.datetime(2020, 1, 5, 4, 26, 18),\n",
       " datetime.datetime(2020, 1, 5, 4, 34, 13),\n",
       " datetime.datetime(2020, 1, 5, 0, 58, 54),\n",
       " datetime.datetime(2020, 1, 4, 23, 40, 23),\n",
       " datetime.datetime(2020, 1, 5, 1, 13, 40),\n",
       " datetime.datetime(2020, 1, 4, 22, 51, 20),\n",
       " datetime.datetime(2020, 1, 5, 0, 37, 33),\n",
       " datetime.datetime(2020, 1, 5, 1, 11, 20),\n",
       " datetime.datetime(2020, 1, 5, 0, 18, 19),\n",
       " datetime.datetime(2020, 1, 5, 1, 50, 2),\n",
       " datetime.datetime(2020, 1, 4, 21, 37, 18),\n",
       " datetime.datetime(2020, 1, 4, 17, 1, 5),\n",
       " datetime.datetime(2020, 1, 5, 2, 1, 9),\n",
       " datetime.datetime(2020, 1, 4, 23, 1, 21),\n",
       " datetime.datetime(2020, 1, 5, 0, 32, 17),\n",
       " datetime.datetime(2020, 1, 5, 0, 4, 2),\n",
       " datetime.datetime(2020, 1, 5, 2, 0, 28),\n",
       " datetime.datetime(2020, 1, 4, 23, 28, 44),\n",
       " datetime.datetime(2020, 1, 4, 20, 21, 3),\n",
       " datetime.datetime(2020, 1, 4, 23, 38, 13),\n",
       " datetime.datetime(2020, 1, 5, 0, 29, 25),\n",
       " datetime.datetime(2020, 1, 5, 1, 33, 11),\n",
       " datetime.datetime(2020, 1, 4, 22, 14, 10),\n",
       " datetime.datetime(2020, 1, 4, 19, 22, 10),\n",
       " datetime.datetime(2020, 1, 4, 21, 23, 57),\n",
       " datetime.datetime(2020, 1, 5, 1, 34, 18),\n",
       " datetime.datetime(2020, 1, 5, 0, 8, 44),\n",
       " datetime.datetime(2020, 1, 5, 3, 18, 5),\n",
       " datetime.datetime(2020, 1, 4, 22, 31, 2),\n",
       " datetime.datetime(2020, 1, 4, 22, 12, 34),\n",
       " datetime.datetime(2020, 1, 4, 23, 27, 37),\n",
       " datetime.datetime(2020, 1, 4, 22, 22, 12),\n",
       " datetime.datetime(2020, 1, 4, 23, 51, 13),\n",
       " datetime.datetime(2020, 1, 4, 22, 11, 38),\n",
       " datetime.datetime(2020, 1, 4, 23, 23, 3),\n",
       " datetime.datetime(2020, 1, 4, 21, 40, 7),\n",
       " datetime.datetime(2020, 1, 4, 22, 28, 32),\n",
       " datetime.datetime(2020, 1, 4, 20, 42, 32),\n",
       " datetime.datetime(2020, 1, 5, 0, 46, 9),\n",
       " datetime.datetime(2020, 1, 4, 21, 28, 26),\n",
       " datetime.datetime(2020, 1, 4, 23, 50, 39),\n",
       " datetime.datetime(2020, 1, 4, 19, 4, 34),\n",
       " datetime.datetime(2020, 1, 5, 0, 33, 59),\n",
       " datetime.datetime(2020, 1, 5, 4, 45, 25),\n",
       " datetime.datetime(2020, 1, 5, 2, 25, 2),\n",
       " datetime.datetime(2020, 1, 4, 20, 35, 33),\n",
       " datetime.datetime(2020, 1, 4, 20, 29, 25),\n",
       " datetime.datetime(2020, 1, 5, 1, 10, 22),\n",
       " datetime.datetime(2020, 1, 5, 3, 9, 58),\n",
       " datetime.datetime(2020, 1, 4, 21, 10, 4),\n",
       " datetime.datetime(2020, 1, 5, 0, 45, 38),\n",
       " datetime.datetime(2020, 1, 4, 20, 53, 56),\n",
       " datetime.datetime(2020, 1, 5, 0, 39, 15),\n",
       " datetime.datetime(2020, 1, 4, 22, 42, 38),\n",
       " datetime.datetime(2020, 1, 5, 2, 28, 33),\n",
       " datetime.datetime(2020, 1, 4, 22, 15, 34),\n",
       " datetime.datetime(2020, 1, 4, 20, 46, 43),\n",
       " datetime.datetime(2020, 1, 4, 21, 25, 9),\n",
       " datetime.datetime(2020, 1, 4, 21, 9, 33),\n",
       " datetime.datetime(2020, 1, 4, 22, 56, 37),\n",
       " datetime.datetime(2020, 1, 5, 6, 18, 22),\n",
       " datetime.datetime(2020, 1, 4, 23, 46, 53),\n",
       " datetime.datetime(2020, 1, 4, 18, 39, 28),\n",
       " datetime.datetime(2020, 1, 4, 22, 7, 9),\n",
       " datetime.datetime(2020, 1, 5, 5, 56, 27),\n",
       " datetime.datetime(2020, 1, 4, 23, 47, 43),\n",
       " datetime.datetime(2020, 1, 4, 23, 8, 8),\n",
       " datetime.datetime(2020, 1, 4, 22, 27, 52),\n",
       " datetime.datetime(2020, 1, 5, 0, 24, 39),\n",
       " datetime.datetime(2020, 1, 5, 0, 56, 18),\n",
       " datetime.datetime(2020, 1, 5, 1, 19, 49),\n",
       " datetime.datetime(2020, 1, 4, 20, 32, 5),\n",
       " datetime.datetime(2020, 1, 4, 23, 8, 29),\n",
       " datetime.datetime(2020, 1, 4, 21, 18, 46),\n",
       " datetime.datetime(2020, 1, 4, 22, 3, 24),\n",
       " datetime.datetime(2020, 1, 4, 22, 40, 5),\n",
       " datetime.datetime(2020, 1, 5, 1, 21),\n",
       " datetime.datetime(2020, 1, 5, 3, 38, 34),\n",
       " datetime.datetime(2020, 1, 4, 21, 48, 38),\n",
       " datetime.datetime(2020, 1, 4, 21, 45, 54),\n",
       " datetime.datetime(2020, 1, 5, 4, 21, 17),\n",
       " datetime.datetime(2020, 1, 5, 0, 3, 52),\n",
       " datetime.datetime(2020, 1, 4, 22, 18, 57),\n",
       " datetime.datetime(2020, 1, 5, 0, 33, 10),\n",
       " datetime.datetime(2020, 1, 5, 1, 3, 43),\n",
       " datetime.datetime(2020, 1, 4, 23, 55, 31),\n",
       " datetime.datetime(2020, 1, 4, 22, 32, 56),\n",
       " datetime.datetime(2020, 1, 5, 0, 36, 13),\n",
       " datetime.datetime(2020, 1, 4, 22, 44, 47),\n",
       " datetime.datetime(2020, 1, 4, 22, 44, 51),\n",
       " datetime.datetime(2020, 1, 4, 22, 21, 25),\n",
       " datetime.datetime(2020, 1, 5, 2, 45, 27),\n",
       " datetime.datetime(2020, 1, 5, 2, 0, 38),\n",
       " datetime.datetime(2020, 1, 4, 20, 44, 20),\n",
       " datetime.datetime(2020, 1, 5, 1, 38, 56),\n",
       " datetime.datetime(2020, 1, 4, 22, 55, 51),\n",
       " datetime.datetime(2020, 1, 4, 21, 53, 57),\n",
       " datetime.datetime(2020, 1, 5, 1, 33, 53),\n",
       " datetime.datetime(2020, 1, 5, 0, 56, 29),\n",
       " datetime.datetime(2020, 1, 4, 20, 50, 5),\n",
       " datetime.datetime(2020, 1, 4, 22, 22, 29),\n",
       " datetime.datetime(2020, 1, 4, 22, 47, 49),\n",
       " datetime.datetime(2020, 1, 5, 1, 41, 9),\n",
       " datetime.datetime(2020, 1, 5, 0, 56, 29),\n",
       " datetime.datetime(2020, 1, 5, 1, 22, 45),\n",
       " datetime.datetime(2020, 1, 4, 20, 58, 17),\n",
       " datetime.datetime(2020, 1, 5, 0, 52, 58),\n",
       " datetime.datetime(2020, 1, 5, 0, 20, 45),\n",
       " datetime.datetime(2020, 1, 5, 2, 12, 58),\n",
       " datetime.datetime(2020, 1, 4, 21, 5, 23),\n",
       " datetime.datetime(2020, 1, 5, 3, 14, 38),\n",
       " datetime.datetime(2020, 1, 4, 23, 6, 36),\n",
       " datetime.datetime(2020, 1, 4, 19, 57, 49),\n",
       " datetime.datetime(2020, 1, 5, 1, 3, 29),\n",
       " datetime.datetime(2020, 1, 5, 1, 28, 32),\n",
       " datetime.datetime(2020, 1, 5, 3, 7, 29),\n",
       " datetime.datetime(2020, 1, 4, 20, 52, 32),\n",
       " datetime.datetime(2020, 1, 5, 2, 27, 21),\n",
       " datetime.datetime(2020, 1, 4, 23, 55, 22),\n",
       " datetime.datetime(2020, 1, 4, 19, 18, 42),\n",
       " datetime.datetime(2020, 1, 5, 1, 28, 9),\n",
       " datetime.datetime(2020, 1, 5, 2, 9, 55),\n",
       " datetime.datetime(2020, 1, 5, 1, 48, 32),\n",
       " datetime.datetime(2020, 1, 4, 19, 31, 22),\n",
       " datetime.datetime(2020, 1, 5, 2, 21, 26),\n",
       " datetime.datetime(2020, 1, 5, 1, 43, 18),\n",
       " datetime.datetime(2020, 1, 4, 20, 26, 36),\n",
       " datetime.datetime(2020, 1, 4, 23, 28, 47),\n",
       " datetime.datetime(2020, 1, 5, 2, 43, 50),\n",
       " datetime.datetime(2020, 1, 4, 23, 46, 18),\n",
       " datetime.datetime(2020, 1, 4, 22, 17, 7),\n",
       " datetime.datetime(2020, 1, 5, 1, 0, 43),\n",
       " datetime.datetime(2020, 1, 4, 21, 12, 21),\n",
       " datetime.datetime(2020, 1, 4, 23, 32, 38),\n",
       " datetime.datetime(2020, 1, 5, 4, 7, 15),\n",
       " datetime.datetime(2020, 1, 4, 22, 37, 1),\n",
       " datetime.datetime(2020, 1, 4, 20, 18, 39),\n",
       " datetime.datetime(2020, 1, 4, 21, 36, 55),\n",
       " datetime.datetime(2020, 1, 5, 4, 55, 23),\n",
       " datetime.datetime(2020, 1, 4, 15, 57, 44),\n",
       " datetime.datetime(2020, 1, 4, 22, 37, 1),\n",
       " datetime.datetime(2020, 1, 5, 4, 22, 24),\n",
       " datetime.datetime(2020, 1, 4, 23, 27, 40),\n",
       " datetime.datetime(2020, 1, 5, 3, 39, 23),\n",
       " datetime.datetime(2020, 1, 4, 22, 2, 3),\n",
       " datetime.datetime(2020, 1, 4, 20, 16, 21),\n",
       " datetime.datetime(2020, 1, 5, 1, 39, 17),\n",
       " datetime.datetime(2020, 1, 5, 1, 36, 14),\n",
       " datetime.datetime(2020, 1, 4, 22, 57, 24),\n",
       " datetime.datetime(2020, 1, 5, 0, 18, 42),\n",
       " datetime.datetime(2020, 1, 5, 2, 42, 28),\n",
       " datetime.datetime(2020, 1, 5, 1, 58, 54),\n",
       " datetime.datetime(2020, 1, 4, 21, 9, 23),\n",
       " datetime.datetime(2020, 1, 4, 21, 25, 12),\n",
       " datetime.datetime(2020, 1, 5, 1, 11, 25),\n",
       " datetime.datetime(2020, 1, 5, 4, 53, 46),\n",
       " datetime.datetime(2020, 1, 4, 23, 34, 9),\n",
       " datetime.datetime(2020, 1, 5, 0, 59, 25),\n",
       " datetime.datetime(2020, 1, 4, 22, 42, 41),\n",
       " datetime.datetime(2020, 1, 4, 21, 25, 27),\n",
       " datetime.datetime(2020, 1, 5, 1, 40, 4),\n",
       " datetime.datetime(2020, 1, 4, 22, 22, 54),\n",
       " datetime.datetime(2020, 1, 4, 21, 37, 37),\n",
       " datetime.datetime(2020, 1, 4, 23, 52, 20),\n",
       " datetime.datetime(2020, 1, 4, 21, 12),\n",
       " datetime.datetime(2020, 1, 4, 23, 37, 11),\n",
       " datetime.datetime(2020, 1, 4, 14, 11, 14),\n",
       " datetime.datetime(2020, 1, 4, 23, 45, 39),\n",
       " datetime.datetime(2020, 1, 4, 18, 50, 58),\n",
       " datetime.datetime(2020, 1, 4, 23, 13, 31),\n",
       " datetime.datetime(2020, 1, 5, 2, 57, 28),\n",
       " datetime.datetime(2020, 1, 4, 20, 20, 58),\n",
       " datetime.datetime(2020, 1, 5, 0, 59, 54),\n",
       " datetime.datetime(2020, 1, 5, 0, 56, 11),\n",
       " datetime.datetime(2020, 1, 5, 2, 0, 11),\n",
       " datetime.datetime(2020, 1, 5, 1, 57, 49),\n",
       " datetime.datetime(2020, 1, 5, 0, 59, 35),\n",
       " datetime.datetime(2020, 1, 5, 5, 37, 34),\n",
       " datetime.datetime(2020, 1, 4, 22, 34, 32),\n",
       " datetime.datetime(2020, 1, 5, 1, 25, 8),\n",
       " datetime.datetime(2020, 1, 4, 23, 58, 19),\n",
       " datetime.datetime(2020, 1, 5, 2, 57, 48),\n",
       " datetime.datetime(2020, 1, 4, 22, 36, 27),\n",
       " datetime.datetime(2020, 1, 5, 3, 8, 25),\n",
       " datetime.datetime(2020, 1, 4, 23, 55, 40),\n",
       " datetime.datetime(2020, 1, 5, 4, 30, 39),\n",
       " datetime.datetime(2020, 1, 5, 2, 25, 22),\n",
       " datetime.datetime(2020, 1, 4, 21, 48, 15),\n",
       " datetime.datetime(2020, 1, 5, 2, 28, 20),\n",
       " datetime.datetime(2020, 1, 4, 23, 16, 27),\n",
       " datetime.datetime(2020, 1, 4, 23, 15, 54),\n",
       " datetime.datetime(2020, 1, 4, 22, 47, 39),\n",
       " datetime.datetime(2020, 1, 5, 0, 20, 1),\n",
       " datetime.datetime(2020, 1, 5, 2, 33, 59),\n",
       " datetime.datetime(2020, 1, 5, 1, 54, 1),\n",
       " datetime.datetime(2020, 1, 4, 18, 51, 34),\n",
       " datetime.datetime(2020, 1, 5, 4, 38, 43),\n",
       " datetime.datetime(2020, 1, 5, 4, 10, 19),\n",
       " datetime.datetime(2020, 1, 5, 0, 16, 27),\n",
       " datetime.datetime(2020, 1, 5, 2, 3, 25),\n",
       " datetime.datetime(2020, 1, 5, 1, 52, 6),\n",
       " datetime.datetime(2020, 1, 5, 4, 35, 27),\n",
       " datetime.datetime(2020, 1, 4, 20, 14, 2),\n",
       " datetime.datetime(2020, 1, 4, 23, 47, 12),\n",
       " datetime.datetime(2020, 1, 4, 20, 25, 26),\n",
       " datetime.datetime(2020, 1, 4, 20, 54, 54),\n",
       " datetime.datetime(2020, 1, 4, 21, 15, 14),\n",
       " datetime.datetime(2020, 1, 5, 5, 25, 22),\n",
       " datetime.datetime(2020, 1, 5, 4, 8, 16),\n",
       " datetime.datetime(2020, 1, 5, 0, 42, 51),\n",
       " datetime.datetime(2020, 1, 4, 17, 12, 46),\n",
       " datetime.datetime(2020, 1, 5, 3, 7, 22),\n",
       " datetime.datetime(2020, 1, 4, 21, 51, 3),\n",
       " datetime.datetime(2020, 1, 5, 3, 33, 23),\n",
       " datetime.datetime(2020, 1, 4, 21, 14, 59),\n",
       " datetime.datetime(2020, 1, 5, 3, 36, 23),\n",
       " datetime.datetime(2020, 1, 5, 1, 41, 59),\n",
       " datetime.datetime(2020, 1, 5, 1, 10, 56),\n",
       " datetime.datetime(2020, 1, 5, 2, 14, 15),\n",
       " datetime.datetime(2020, 1, 5, 1, 46, 15),\n",
       " datetime.datetime(2020, 1, 5, 0, 50, 26),\n",
       " datetime.datetime(2020, 1, 5, 0, 32, 15),\n",
       " datetime.datetime(2020, 1, 5, 2, 56, 41),\n",
       " datetime.datetime(2020, 1, 4, 17, 22, 21),\n",
       " datetime.datetime(2020, 1, 5, 3, 25, 16),\n",
       " datetime.datetime(2020, 1, 4, 22, 53, 12),\n",
       " datetime.datetime(2020, 1, 5, 3, 27, 7),\n",
       " datetime.datetime(2020, 1, 4, 22, 1, 18),\n",
       " datetime.datetime(2020, 1, 4, 17, 18, 48),\n",
       " datetime.datetime(2020, 1, 4, 22, 33, 47),\n",
       " datetime.datetime(2020, 1, 4, 23, 43, 18),\n",
       " datetime.datetime(2020, 1, 5, 4, 30, 24),\n",
       " datetime.datetime(2020, 1, 4, 21, 46),\n",
       " datetime.datetime(2020, 1, 5, 2, 54, 33),\n",
       " datetime.datetime(2020, 1, 5, 5, 54, 22),\n",
       " datetime.datetime(2020, 1, 4, 19, 23, 22),\n",
       " datetime.datetime(2020, 1, 4, 23, 13, 6),\n",
       " datetime.datetime(2020, 1, 5, 0, 23, 18),\n",
       " datetime.datetime(2020, 1, 4, 20, 44, 34),\n",
       " datetime.datetime(2020, 1, 5, 2, 38, 38),\n",
       " datetime.datetime(2020, 1, 5, 0, 38, 58),\n",
       " datetime.datetime(2020, 1, 5, 1, 19, 50),\n",
       " datetime.datetime(2020, 1, 5, 1, 25, 50),\n",
       " datetime.datetime(2020, 1, 5, 1, 36, 48),\n",
       " datetime.datetime(2020, 1, 5, 1, 40, 37),\n",
       " datetime.datetime(2020, 1, 4, 22, 17, 9),\n",
       " datetime.datetime(2020, 1, 4, 22, 14, 18),\n",
       " datetime.datetime(2020, 1, 4, 20, 38, 47),\n",
       " datetime.datetime(2020, 1, 5, 0, 48),\n",
       " datetime.datetime(2020, 1, 5, 2, 42, 36),\n",
       " datetime.datetime(2020, 1, 5, 0, 24, 45),\n",
       " datetime.datetime(2020, 1, 5, 2, 23, 39),\n",
       " datetime.datetime(2020, 1, 4, 19, 40, 15),\n",
       " datetime.datetime(2020, 1, 4, 21, 36, 58),\n",
       " datetime.datetime(2020, 1, 4, 23, 14, 42),\n",
       " datetime.datetime(2020, 1, 5, 3, 26, 30),\n",
       " datetime.datetime(2020, 1, 4, 22, 38, 24),\n",
       " datetime.datetime(2020, 1, 5, 1, 55, 48),\n",
       " datetime.datetime(2020, 1, 4, 20, 17, 29),\n",
       " datetime.datetime(2020, 1, 4, 21, 16, 25),\n",
       " ...]"
      ]
     },
     "execution_count": 42,
     "metadata": {},
     "output_type": "execute_result"
    }
   ],
   "source": [
    "# hint: use X:Y to define the range of elements you are interested in in i[2], and remember to cast it to an integer!\n",
    "year = ?\n",
    "month = ?\n",
    "day = ? \n",
    "hour = ?\n",
    "minute = ?\n",
    "second = ?\n",
    "\n",
    "[dt.datetime(year, month, day, hour, minute, second) for i in newdata[1:]]"
   ]
  },
  {
   "cell_type": "markdown",
   "metadata": {},
   "source": [
    "This looks good! Now let's do the same for user_id."
   ]
  },
  {
   "cell_type": "code",
   "execution_count": 43,
   "metadata": {
    "collapsed": false
   },
   "outputs": [
    {
     "ename": "ValueError",
     "evalue": "invalid literal for int() with base 10: '45tshghtnryy536366'",
     "output_type": "error",
     "traceback": [
      "\u001b[0;31m---------------------------------------------------------------------------\u001b[0m",
      "\u001b[0;31mValueError\u001b[0m                                Traceback (most recent call last)",
      "\u001b[0;32m<ipython-input-43-aeac6ce4182b>\u001b[0m in \u001b[0;36m<module>\u001b[0;34m()\u001b[0m\n\u001b[0;32m----> 1\u001b[0;31m \u001b[0;34m[\u001b[0m\u001b[0mint\u001b[0m\u001b[0;34m(\u001b[0m\u001b[0mi\u001b[0m\u001b[0;34m[\u001b[0m\u001b[0;36m0\u001b[0m\u001b[0;34m]\u001b[0m\u001b[0;34m)\u001b[0m \u001b[0;32mfor\u001b[0m \u001b[0mi\u001b[0m \u001b[0;32min\u001b[0m \u001b[0mnewdata\u001b[0m\u001b[0;34m[\u001b[0m\u001b[0;36m1\u001b[0m\u001b[0;34m:\u001b[0m\u001b[0;34m]\u001b[0m\u001b[0;34m]\u001b[0m\u001b[0;34m\u001b[0m\u001b[0m\n\u001b[0m",
      "\u001b[0;32m<ipython-input-43-aeac6ce4182b>\u001b[0m in \u001b[0;36m<listcomp>\u001b[0;34m(.0)\u001b[0m\n\u001b[0;32m----> 1\u001b[0;31m \u001b[0;34m[\u001b[0m\u001b[0mint\u001b[0m\u001b[0;34m(\u001b[0m\u001b[0mi\u001b[0m\u001b[0;34m[\u001b[0m\u001b[0;36m0\u001b[0m\u001b[0;34m]\u001b[0m\u001b[0;34m)\u001b[0m \u001b[0;32mfor\u001b[0m \u001b[0mi\u001b[0m \u001b[0;32min\u001b[0m \u001b[0mnewdata\u001b[0m\u001b[0;34m[\u001b[0m\u001b[0;36m1\u001b[0m\u001b[0;34m:\u001b[0m\u001b[0;34m]\u001b[0m\u001b[0;34m]\u001b[0m\u001b[0;34m\u001b[0m\u001b[0m\n\u001b[0m",
      "\u001b[0;31mValueError\u001b[0m: invalid literal for int() with base 10: '45tshghtnryy536366'"
     ]
    }
   ],
   "source": [
    "[int(i[0]) for i in newdata[1:]]"
   ]
  },
  {
   "cell_type": "markdown",
   "metadata": {},
   "source": [
    "This looks strange! The warning is complaining that one of the values cannot be made into an integer. It seems to be in a format that is quite different - how would we identify this? \n",
    "\n",
    "Well, one thing we can see is that it is a long string. Let's count the length of values of user_ids."
   ]
  },
  {
   "cell_type": "code",
   "execution_count": 44,
   "metadata": {
    "collapsed": false
   },
   "outputs": [
    {
     "data": {
      "text/plain": [
       "Counter({1: 29, 2: 287, 3: 2780, 4: 28119, 5: 4086, 18: 13})"
      ]
     },
     "execution_count": 44,
     "metadata": {},
     "output_type": "execute_result"
    }
   ],
   "source": [
    "# Counter is a very convenient function for counting items in a list, note the result is a dictionary\n",
    "from collections import Counter\n",
    "Counter([len(i[0]) for i in newdata[1:]])"
   ]
  },
  {
   "cell_type": "markdown",
   "metadata": {},
   "source": [
    "From this we can see that the majority of values are of length five or less, with 13 values that are length 18. After you confirm with developers, it seems that those are values of non-logged in users. So let's remove them, but this time using a list comprehension. (Note the extra work so we don't include the description row.)"
   ]
  },
  {
   "cell_type": "code",
   "execution_count": 45,
   "metadata": {
    "collapsed": false
   },
   "outputs": [
    {
     "data": {
      "text/plain": [
       "['user_id', 'funnel_step', 'timestamp', 'device']"
      ]
     },
     "execution_count": 45,
     "metadata": {},
     "output_type": "execute_result"
    }
   ],
   "source": [
    "newdata[0]"
   ]
  },
  {
   "cell_type": "code",
   "execution_count": 46,
   "metadata": {
    "collapsed": false
   },
   "outputs": [],
   "source": [
    "# hint: again use X:Y to define the range of elements you are interested in, but this time for row[2]\n",
    "cleandata_year = ?\n",
    "cleandata_month = ?\n",
    "cleandata_day = ? \n",
    "cleandata_hour = ?\n",
    "cleandata_minute = ?\n",
    "cleandata_second = ?\n",
    "\n",
    "cleandata = [ [row[0], \n",
    "               row[1], \n",
    "               dt.datetime(cleandata_year, \n",
    "                           cleandata_month, \n",
    "                           cleandata_day, \n",
    "                           cleandata_hour, \n",
    "                           cleandata_minute, \n",
    "                           cleandata_second), \n",
    "               row[3]] for row in newdata[1:] \n",
    "             if len(row[0]) < 8] # we use 8 because remember the first row 'user_id' is length 7"
   ]
  },
  {
   "cell_type": "code",
   "execution_count": 47,
   "metadata": {
    "collapsed": false
   },
   "outputs": [
    {
     "data": {
      "text/plain": [
       "[['user_id', 'funnel_step', 'timestamp', 'device'],\n",
       " ['3695', 'edit', datetime.datetime(2020, 1, 4, 22, 44, 44), 'desktop'],\n",
       " ['10204', 'live', datetime.datetime(2020, 1, 5, 0, 22, 50), 'desktop'],\n",
       " ['10399', 'live', datetime.datetime(2020, 1, 5, 4, 45, 55), 'desktop'],\n",
       " ['7536', 'edit', datetime.datetime(2020, 1, 5, 3, 10, 15), 'desktop']]"
      ]
     },
     "execution_count": 47,
     "metadata": {},
     "output_type": "execute_result"
    }
   ],
   "source": [
    "# Now to do a little cleaning up to include the header row\n",
    "cleandata_final = []\n",
    "cleandata_final.append(newdata[0])\n",
    "cleandata_final.extend(cleandata)\n",
    "cleandata_final[0:5]"
   ]
  },
  {
   "cell_type": "markdown",
   "metadata": {},
   "source": [
    "We can confirm that they are removed:"
   ]
  },
  {
   "cell_type": "code",
   "execution_count": 48,
   "metadata": {
    "collapsed": false
   },
   "outputs": [
    {
     "data": {
      "text/plain": [
       "13"
      ]
     },
     "execution_count": 48,
     "metadata": {},
     "output_type": "execute_result"
    }
   ],
   "source": [
    "len(?)-len(?)"
   ]
  },
  {
   "cell_type": "code",
   "execution_count": 49,
   "metadata": {
    "collapsed": true
   },
   "outputs": [],
   "source": [
    "# Again, let's save our clean data set to save our effort again\n",
    "with open('onboarding_funnel_data_clean.csv', mode='w') as employee_file:\n",
    "    data_writer = csv.writer(employee_file, delimiter=',', quotechar='\"', quoting=csv.QUOTE_MINIMAL)\n",
    "    for row in cleandata_final:\n",
    "        data_writer.writerow(row)"
   ]
  },
  {
   "cell_type": "markdown",
   "metadata": {},
   "source": [
    "Finally, let's plot our first funnel! To do this, we need to decide what it is we are plotting of course! We want to see the number of users who completed each step of the funnel, which means we need to be able to count the number of users at each step. Shall we try some more list comprehensions to calculate this?"
   ]
  },
  {
   "cell_type": "code",
   "execution_count": 50,
   "metadata": {
    "collapsed": false
   },
   "outputs": [],
   "source": [
    "funnel = Counter([?[1] for i in newdata[1:]])"
   ]
  },
  {
   "cell_type": "code",
   "execution_count": 51,
   "metadata": {
    "collapsed": false
   },
   "outputs": [
    {
     "data": {
      "text/plain": [
       "dict_keys(['live', 'registration', 'edit', 'create'])"
      ]
     },
     "execution_count": 51,
     "metadata": {},
     "output_type": "execute_result"
    }
   ],
   "source": [
    "funnel.keys()"
   ]
  },
  {
   "cell_type": "code",
   "execution_count": 52,
   "metadata": {
    "collapsed": false
   },
   "outputs": [
    {
     "data": {
      "text/plain": [
       "dict_values([6048, 11307, 8431, 9528])"
      ]
     },
     "execution_count": 52,
     "metadata": {},
     "output_type": "execute_result"
    }
   ],
   "source": [
    "funnel.values()"
   ]
  },
  {
   "cell_type": "markdown",
   "metadata": {},
   "source": [
    "Let's use the bar chart functionality from a graphing library called matplotlib to plot our first funnel."
   ]
  },
  {
   "cell_type": "code",
   "execution_count": 56,
   "metadata": {
    "collapsed": false
   },
   "outputs": [
    {
     "data": {
      "image/png": "[encoded data removed]",
      "text/plain": [
       "<matplotlib.figure.Figure at 0x6ee93370>"
      ]
     },
     "metadata": {},
     "output_type": "display_data"
    }
   ],
   "source": [
    "import matplotlib.pyplot as plt\n",
    "\n",
    "objects = funnel.keys()\n",
    "y_pos = range(len(funnel.keys()))\n",
    "performance = funnel.values()\n",
    "\n",
    "plt.bar(y_pos, performance, align='center', alpha=0.5)\n",
    "plt.xticks(y_pos, objects)\n",
    "plt.ylabel('Number of users')\n",
    "plt.title('Funnel from Registration to Present Live')\n",
    "\n",
    "plt.show()"
   ]
  },
  {
   "cell_type": "markdown",
   "metadata": {},
   "source": [
    "But hang on, this is not a funnel from high to low - we need to _order_ the of funnel!"
   ]
  },
  {
   "cell_type": "code",
   "execution_count": 57,
   "metadata": {
    "collapsed": false
   },
   "outputs": [
    {
     "name": "stdout",
     "output_type": "stream",
     "text": [
      "OrderedDict([('registration', 11307), ('create', 9528), ('edit', 8431), ('live', 6048)])\n"
     ]
    }
   ],
   "source": [
    "from collections import OrderedDict \n",
    "\n",
    "ordered_funnel = OrderedDict((k, funnel.get(k)) for k in ['registration','create','edit','live'])\n",
    "print(?) "
   ]
  },
  {
   "cell_type": "code",
   "execution_count": 58,
   "metadata": {
    "collapsed": false,
    "scrolled": true
   },
   "outputs": [
    {
     "data": {
      "image/png": "[encoded data removed]",
      "text/plain": [
       "<matplotlib.figure.Figure at 0x6ee93350>"
      ]
     },
     "metadata": {},
     "output_type": "display_data"
    }
   ],
   "source": [
    "# Now plot the new funnel that is ordered\n",
    "objects = ?.keys()\n",
    "y_pos = range(len(?.keys()))\n",
    "performance = ?.values()\n",
    "\n",
    "plt.bar(y_pos, performance, align='center', alpha=0.5)\n",
    "plt.xticks(y_pos, objects)\n",
    "plt.ylabel('Number of users')\n",
    "plt.title('Funnel from Registration to Present Live')\n",
    "\n",
    "plt.show()"
   ]
  },
  {
   "cell_type": "markdown",
   "metadata": {},
   "source": [
    "Now we can see that the biggest drop appears to be from edit to live, and then from registration to create, and the smallest drop is between create and edit presentation. Interesting!"
   ]
  },
  {
   "cell_type": "markdown",
   "metadata": {},
   "source": [
    "Give a pat on the back for yourself -- you have managed to clean the data using several functionalities of python and plot your first insightful graph. \n",
    "\n",
    "\n",
    "In next week's lesson you will learn how to use a collection of popular data science libraries to do this type of cleaning even faster and to plot some even more sophisticated graphs."
   ]
  },
  {
   "cell_type": "markdown",
   "metadata": {},
   "source": [
    "\n",
    "--------------------------"
   ]
  },
  {
   "cell_type": "markdown",
   "metadata": {},
   "source": [
    "#### BONUS: Calculate time statistics\n",
    "\n",
    "While we will not cover this as part of the project, if you want to challenge yourself a little more, try to calculate some time statistics for each funnel step!"
   ]
  },
  {
   "cell_type": "markdown",
   "metadata": {
    "collapsed": false
   },
   "source": [
    "Remember we wanted to use the datetime type for our timestamp? The following snippets shows you how to create a function that does some time calculation between two timestamps.\n"
   ]
  },
  {
   "cell_type": "code",
   "execution_count": null,
   "metadata": {
    "collapsed": true
   },
   "outputs": [],
   "source": [
    "# Create a function that calculates the total number of seconds\n",
    "def get_total_seconds(time_difference):\n",
    "        total_seconds = time_difference.days*86400 + time_difference.seconds # 86400 is the number of seconds in a day\n",
    "        return(total_seconds)\n"
   ]
  },
  {
   "cell_type": "code",
   "execution_count": null,
   "metadata": {
    "collapsed": true
   },
   "outputs": [],
   "source": [
    "get_total_seconds(time_diff)"
   ]
  },
  {
   "cell_type": "code",
   "execution_count": null,
   "metadata": {
    "collapsed": false
   },
   "outputs": [],
   "source": [
    "get_total_seconds(created_at2)"
   ]
  },
  {
   "cell_type": "markdown",
   "metadata": {},
   "source": [
    "Why is there an error? It says \"AttributeError: 'datetime.datetime' object has no attribute 'days'\" -- this means that created_at2, which is of the type datetime.datetime doesn't have an attribute 'days', which is what the object 'datetime.timedelta' (e.g. time_diff) has. To fix this, we must include some error handling in the function definition."
   ]
  },
  {
   "cell_type": "code",
   "execution_count": null,
   "metadata": {
    "collapsed": false
   },
   "outputs": [],
   "source": [
    "# Create a function that calculates the total number of seconds\n",
    "def get_total_seconds_better(time_difference):\n",
    "        try:\n",
    "            total_seconds = time_difference.days*86400 + time_difference.seconds # 86400 is the number of seconds in a day\n",
    "            return(total_seconds)\n",
    "        except:\n",
    "            return(-1)            "
   ]
  },
  {
   "cell_type": "code",
   "execution_count": null,
   "metadata": {
    "collapsed": false
   },
   "outputs": [],
   "source": [
    "get_total_seconds_better(time_diff)"
   ]
  },
  {
   "cell_type": "code",
   "execution_count": null,
   "metadata": {
    "collapsed": false
   },
   "outputs": [],
   "source": [
    "get_total_seconds_better(created_at2)"
   ]
  },
  {
   "cell_type": "markdown",
   "metadata": {},
   "source": [
    "### Week 3 Course Material\n",
    "\n",
    "Install pandas\n",
    "- The first 5 sections, from Introduction to DataFrame (includes installation) https://www.tutorialspoint.com/python_pandas/python_pandas_dataframe.htm\n",
    "- Install Pandas on Windows\thttps://data-flair.training/blogs/install-pandas-on-windows/\n",
    "- Install Pandas https://pandas.pydata.org/pandas-docs/stable/getting_started/install.html\n",
    "\n",
    "#### Learn\n",
    "- Python: Pandas Tutorial, Intro to DataFrames \n",
    " - (video) https://www.youtube.com/watch?v=e60ItwlZTKM\n",
    " - (article) https://www.datacamp.com/community/tutorials/pandas-tutorial-dataframe-python\n",
    "- Intro to Data Analysis / Visualization with Python, Matplotlib and Pandas | Matplotlib Tutorial https://www.youtube.com/watch?v=a9UrKTVEeZA\n",
    "\n",
    "#### Inspiration\n",
    "- The beauty of data visualization https://www.youtube.com/watch?v=5Zg-C8AAIGg\n",
    "\n",
    "### Step #3: More funnels\n",
    "\n",
    "- Calculate percentages\n",
    "- Segmentation, which users is this onboarding good for, who are dropping off?"
   ]
  },
  {
   "cell_type": "markdown",
   "metadata": {},
   "source": [
    "A bit of repetition"
   ]
  },
  {
   "cell_type": "markdown",
   "metadata": {},
   "source": [
    "--------------------------"
   ]
  },
  {
   "cell_type": "markdown",
   "metadata": {},
   "source": [
    "### Week 4 Course Material\n",
    "\n",
    "#### Learn\n",
    "- Refactoring:\n",
    " - What is code refactoring? https://www.youtube.com/watch?v=vhYK3pDUijkv (first 3 mins)\n",
    " - How to Refactor Code in Python: A Beginner's Guide https://hubpages.com/technology/How-To-Refactor-Code-In-Python-A-Beginners-Guide\n",
    " - 4 Simple Ways to Refactor Your Python Code https://medium.com/code-85/4-simple-ways-to-refactor-your-python-code-2f491b767381\n",
    " - Python Refactoring https://www.youtube.com/watch?v=KTIl1MugsSY\n",
    "- What is Data Storytelling? https://www.nugit.co/what-is-data-storytelling/\n",
    "- 5 Steps for Effective Data Storytelling https://www.qlik.com/us/-/media/files/resource-library/global-us/register/ebooks/EB-5-Steps-for-Effective-Data-Storytelling-EN\n",
    "\n",
    "#### Inspiration\n",
    "- Making data mean more through storytelling https://www.youtube.com/watch?v=6xsvGYIxJok\n",
    "- Storytelling with Data (long) https://www.youtube.com/watch?v=8EMW7io4rSI\n",
    "\n",
    "### Step #4: Reproducible analysis and actionable insights\n",
    "\n",
    "- Refactor and reuse\n",
    "- Combining the funnels together, what are the key take-aways?"
   ]
  }
 ],
 "metadata": {
  "kernelspec": {
   "display_name": "Python 3",
   "language": "python",
   "name": "python3"
  },
  "language_info": {
   "codemirror_mode": {
    "name": "ipython",
    "version": 3
   },
   "file_extension": ".py",
   "mimetype": "text/x-python",
   "name": "python",
   "nbconvert_exporter": "python",
   "pygments_lexer": "ipython3",
   "version": "3.4.2"
  }
 },
 "nbformat": 4,
 "nbformat_minor": 1
}
