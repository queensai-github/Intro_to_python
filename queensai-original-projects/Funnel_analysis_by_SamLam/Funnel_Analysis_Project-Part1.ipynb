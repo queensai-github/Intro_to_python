{
 "cells": [
  {
   "cell_type": "markdown",
   "metadata": {},
   "source": [
    "# Funnel Analysis"
   ]
  },
  {
   "cell_type": "markdown",
   "metadata": {},
   "source": [
    "A [queensai.com](https://www.queensai.com/) original project created by mentor [Samantha Lam](https://www.linkedin.com/in/samanthalam/)."
   ]
  },
  {
   "cell_type": "markdown",
   "metadata": {},
   "source": [
    "## What is funnel analysis? \n",
    "\n",
    "Tomi Mester has an excellent blog post on this: https://data36.com/funnel-analysis/\n",
    "\n",
    "\"Funnel analysis is a powerful analytics method that shows visually the conversion between the most important steps of the user journey.\" \n",
    "\n",
    "One of the most common types of analysis in industry is an onboarding funnel analysis, which are the steps that a user goes from registering on a website to the point they do a key action that the product offers. Examples of a key action in onboarding funnels could be:\n",
    "- for a music-streaming service like Spotify, this could be when a user presses play for a song\n",
    "- for an email provider such as Gmail, this could be when a user sends an email\n",
    "- for a mobile game like Candy Crush, this could be from when a user downloads the app to when they have completed their first level.\n",
    "\n",
    "**Come up with your own ideas around other online services you know on what a key action they would want their user to perform to get an understanding of what their product does!**\n",
    "\n",
    "\n",
    "In this project we will go through how we would do this at Mentimeter (https://www.mentimeter.com/). If you don't already know what Mentimeter is, I highly recommend you check it out ;) In essence, Mentimeter is an interactive presentation platform where you can engage the audience with real-time interaction such as polls and word clouds.\n",
    "\n",
    "The key action we want the registered user to engage in to understand the value of Mentimeter is to present live in front of an audience. In other words, when a user's presentation has received 2 votes or more.\n",
    "\n",
    "*Note: Each Step corresponds roughly to one week of the course at queensai so the discussion points each week will revolve around the topic in the Step.*"
   ]
  },
  {
   "cell_type": "markdown",
   "metadata": {},
   "source": [
    "-----------------------"
   ]
  },
  {
   "cell_type": "markdown",
   "metadata": {},
   "source": [
    "\n",
    "### Week 1 Course Material\n",
    "\n",
    "What is Python and how to install\n",
    "- How to install Python + Jupyter notebook on your laptop!\thttps://www.codecademy.com/articles/install-python3\n",
    "- More on installing python\thttps://realpython.com/installing-python/\n",
    "\n",
    "#### Learn\n",
    "- What is a variable? It's a box with a name https://www.youtube.com/watch?v=OPBxRcosIaU\n",
    "- How to use a jupyter notebook: \n",
    " - https://www.dataquest.io/blog/jupyter-notebook-tutorial/\n",
    " - https://www.youtube.com/watch?v=1QDvkkdyGw0\n",
    "- Lessons 1 & 2 https://www.udacity.com/course/introduction-to-python--ud1110\n",
    "\n",
    "#### Inspiration\n",
    "- A little bit of fun history https://www.python-course.eu/python3_history_and_philosophy.php \n",
    "- Where To Start Learning How To Code https://www.youtube.com/watch?v=-1SmUivH9dQ\n",
    "- How can I become a good programmer, for beginners https://www.youtube.com/watch?v=2-VKC8g2u1Y"
   ]
  },
  {
   "cell_type": "markdown",
   "metadata": {},
   "source": [
    "### Step #1: Define the steps of your funnel + understand the data!\n",
    "\n",
    "Typically in a company you would need to understand how this is tracked in the data ecosystem. This data is often stored in some form of database that would require SQL to get this data out. The end result can be stored as a csv so let's imagine that we have someone to help us with the pulling of data but we still need to *define* what is needed.\n",
    "\n",
    "What do we need to know to start? We want to create an onboarding funnel at Mentimeter so let's define the steps required:\n",
    "- Registration\n",
    "- Create a presentation\n",
    "- Edit a presentation\n",
    "- Presented live\n",
    "\n",
    "So what kind of information do we need for each of these steps for us to understand how a user goes from one step to another? Well, the first thing is that we need an identifier for the user! Without this, there is no way we can know who has completed which step.\n",
    "\n",
    "How do we represent a user? We use what is called a user ID. A user ID is a unique identifier, commonly used to log on to a website, app, or online service, e.g. it may be a username, account number, or email address. (You can read a bit more about this at: https://techterms.com/definition/user_id). So if it is a username, what data type would that be? What about an account number? Or an email address then?"
   ]
  },
  {
   "cell_type": "code",
   "execution_count": 1,
   "metadata": {},
   "outputs": [
    {
     "data": {
      "text/plain": [
       "str"
      ]
     },
     "execution_count": 1,
     "metadata": {},
     "output_type": "execute_result"
    }
   ],
   "source": [
    "# User ID is a username\n",
    "user_id = 'ilovepython'\n",
    "type(user_id)"
   ]
  },
  {
   "cell_type": "code",
   "execution_count": 2,
   "metadata": {},
   "outputs": [
    {
     "data": {
      "text/plain": [
       "int"
      ]
     },
     "execution_count": 2,
     "metadata": {},
     "output_type": "execute_result"
    }
   ],
   "source": [
    "# User ID is an account number\n",
    "user_id = 123456\n",
    "type(user_id)"
   ]
  },
  {
   "cell_type": "code",
   "execution_count": 3,
   "metadata": {
    "scrolled": true
   },
   "outputs": [
    {
     "data": {
      "text/plain": [
       "str"
      ]
     },
     "execution_count": 3,
     "metadata": {},
     "output_type": "execute_result"
    }
   ],
   "source": [
    "# User ID is an email address\n",
    "user_id = 'ilovepython@email.com'\n",
    "type(user_id)"
   ]
  },
  {
   "cell_type": "markdown",
   "metadata": {},
   "source": [
    "In the case of this project, our user IDs are stored as account numbers, in other words, integers."
   ]
  },
  {
   "cell_type": "markdown",
   "metadata": {},
   "source": [
    "So we can identify a user, what else do we need? \n",
    "The onboarding step and the time at which it happened. We want the onboarding step to know what action the user has done, and the time at which it happened. These three pieces of information is one of the most common ways data is tracked about a user. Who, what and when.\n",
    "\n",
    "What would the data type of the onboarding step be? Let's say they are the words 'Registration', 'Create a presentation', 'Edit a presentation', and 'Presented live'. I bet this is straightforward."
   ]
  },
  {
   "cell_type": "code",
   "execution_count": 4,
   "metadata": {},
   "outputs": [
    {
     "name": "stdout",
     "output_type": "stream",
     "text": [
      "<class 'str'> <class 'str'> <class 'str'> <class 'str'>\n"
     ]
    }
   ],
   "source": [
    "# Onboarding step\n",
    "onboarding_step1 = 'Registration'\n",
    "type(onboarding_step1)\n",
    "onboarding_step2 = 'Create a presentation'\n",
    "type(onboarding_step2)\n",
    "onboarding_step3 = 'Edit a presentation'\n",
    "onboarding_step4 = 'Presented live'\n",
    "\n",
    "print(type(onboarding_step1),type(onboarding_step4),type(onboarding_step3) ,type(onboarding_step4))"
   ]
  },
  {
   "cell_type": "markdown",
   "metadata": {},
   "source": [
    "How about when something happens, i.e. when the event was created at? This one is trickier. How can time be represented in Python?"
   ]
  },
  {
   "cell_type": "code",
   "execution_count": 5,
   "metadata": {},
   "outputs": [
    {
     "data": {
      "text/plain": [
       "str"
      ]
     },
     "execution_count": 5,
     "metadata": {},
     "output_type": "execute_result"
    }
   ],
   "source": [
    "created_at1 = '2020-09-01 09:10:08'\n",
    "type(created_at1)"
   ]
  },
  {
   "cell_type": "code",
   "execution_count": 6,
   "metadata": {},
   "outputs": [
    {
     "data": {
      "text/plain": [
       "str"
      ]
     },
     "execution_count": 6,
     "metadata": {},
     "output_type": "execute_result"
    }
   ],
   "source": [
    "created_at2 = '2020-09-01 09:20:08'\n",
    "type(created_at2)"
   ]
  },
  {
   "cell_type": "code",
   "execution_count": 7,
   "metadata": {},
   "outputs": [
    {
     "ename": "TypeError",
     "evalue": "unsupported operand type(s) for -: 'str' and 'str'",
     "output_type": "error",
     "traceback": [
      "\u001b[0;31m---------------------------------------------------------------------------\u001b[0m",
      "\u001b[0;31mTypeError\u001b[0m                                 Traceback (most recent call last)",
      "\u001b[0;32m<ipython-input-7-051e5c500b97>\u001b[0m in \u001b[0;36m<module>\u001b[0;34m()\u001b[0m\n\u001b[0;32m----> 1\u001b[0;31m \u001b[0mcreated_at2\u001b[0m\u001b[0;34m-\u001b[0m\u001b[0mcreated_at1\u001b[0m\u001b[0;34m\u001b[0m\u001b[0m\n\u001b[0m",
      "\u001b[0;31mTypeError\u001b[0m: unsupported operand type(s) for -: 'str' and 'str'"
     ]
    }
   ],
   "source": [
    "created_at2-created_at1"
   ]
  },
  {
   "cell_type": "markdown",
   "metadata": {},
   "source": [
    "This *looks* nice, but we also know that there is actually a data type dedicated to time in python that gives us some nice functionality related to time that we don't get from strings (https://docs.python.org/3/library/datetime.html)"
   ]
  },
  {
   "cell_type": "code",
   "execution_count": 8,
   "metadata": {},
   "outputs": [
    {
     "name": "stdout",
     "output_type": "stream",
     "text": [
      "2020-09-01 09:10:08 2021-09-01 10:20:08\n"
     ]
    }
   ],
   "source": [
    "import datetime as dt\n",
    "created_at1 = dt.datetime(2020, 9, 1, 9, 10, 8)\n",
    "created_at2 = dt.datetime(2021, 9, 1, 10, 20, 8)\n",
    "\n",
    "print(created_at1, created_at2)"
   ]
  },
  {
   "cell_type": "code",
   "execution_count": 9,
   "metadata": {
    "scrolled": true
   },
   "outputs": [
    {
     "data": {
      "text/plain": [
       "datetime.timedelta(365, 4200)"
      ]
     },
     "execution_count": 9,
     "metadata": {},
     "output_type": "execute_result"
    }
   ],
   "source": [
    "time_diff = created_at2-created_at1\n",
    "time_diff"
   ]
  },
  {
   "cell_type": "code",
   "execution_count": 10,
   "metadata": {},
   "outputs": [
    {
     "name": "stdout",
     "output_type": "stream",
     "text": [
      "365 4200\n"
     ]
    }
   ],
   "source": [
    "print(time_diff.days, time_diff.seconds)"
   ]
  },
  {
   "cell_type": "markdown",
   "metadata": {},
   "source": [
    "So, due to the flexibility that this object type gives us, we decide that the created_at data we get is a 'datetime.datetime' object.\n",
    "\n",
    "Now that we are clear about the data we need, and what object types they should be, let's import this data file and take a peek at it looks like."
   ]
  },
  {
   "cell_type": "code",
   "execution_count": 11,
   "metadata": {
    "collapsed": true
   },
   "outputs": [],
   "source": [
    "# Import the data file\n",
    "import csv\n",
    "data=[]\n",
    "with open('onboarding_funnel_data.csv', newline='') as csvfile:\n",
    "    datareader = csv.reader(csvfile, delimiter=';', quotechar='|')\n",
    "    for row in datareader:\n",
    "        data.append(row)"
   ]
  },
  {
   "cell_type": "code",
   "execution_count": 12,
   "metadata": {},
   "outputs": [
    {
     "data": {
      "text/plain": [
       "[['user_id,funnel_step,timestamp,device'],\n",
       " ['3695,edit,2020-01-04 22:44:44,desktop'],\n",
       " ['10204,live,2020-01-05 00:22:50,desktop'],\n",
       " ['10399,live,2020-01-05 04:45:55,desktop'],\n",
       " ['7536,edit,2020-01-05 03:10:15,desktop'],\n",
       " ['6578,edit,2020-01-04 22:40:19,desktop'],\n",
       " ['801,create,2020-01-04 23:14:42,desktop'],\n",
       " ['4416,registration,2020-01-05 01:05:31,mobile'],\n",
       " ['10501,edit,2020-01-05 00:53:17,desktop'],\n",
       " ['1037,create,2020-01-05 06:10:27,desktop']]"
      ]
     },
     "execution_count": 12,
     "metadata": {},
     "output_type": "execute_result"
    }
   ],
   "source": [
    "data[0:10]"
   ]
  },
  {
   "cell_type": "markdown",
   "metadata": {},
   "source": [
    "Does this look weird?"
   ]
  },
  {
   "cell_type": "code",
   "execution_count": 13,
   "metadata": {},
   "outputs": [
    {
     "data": {
      "text/plain": [
       "['user_id,funnel_step,timestamp,device']"
      ]
     },
     "execution_count": 13,
     "metadata": {},
     "output_type": "execute_result"
    }
   ],
   "source": [
    "data[0]"
   ]
  },
  {
   "cell_type": "markdown",
   "metadata": {},
   "source": [
    "If you look carefully, you'll notice that the value in the array is a whole string, rather than 4 separate ones for each column. Why this happens is because the delimiter used is a semi-colon (;) and not a comma (,) which is what the csv we are importing uses. Let's try again!"
   ]
  },
  {
   "cell_type": "code",
   "execution_count": 14,
   "metadata": {
    "collapsed": true
   },
   "outputs": [],
   "source": [
    "# Import the data file\n",
    "import csv\n",
    "data=[]\n",
    "with open('onboarding_funnel_data.csv', newline='') as csvfile:\n",
    "    datareader = csv.reader(csvfile, delimiter=',', quotechar='|')\n",
    "    for row in datareader:\n",
    "        data.append(row)"
   ]
  },
  {
   "cell_type": "code",
   "execution_count": 15,
   "metadata": {},
   "outputs": [
    {
     "data": {
      "text/plain": [
       "[['user_id', 'funnel_step', 'timestamp', 'device'],\n",
       " ['3695', 'edit', '2020-01-04 22:44:44', 'desktop'],\n",
       " ['10204', 'live', '2020-01-05 00:22:50', 'desktop'],\n",
       " ['10399', 'live', '2020-01-05 04:45:55', 'desktop'],\n",
       " ['7536', 'edit', '2020-01-05 03:10:15', 'desktop'],\n",
       " ['6578', 'edit', '2020-01-04 22:40:19', 'desktop'],\n",
       " ['801', 'create', '2020-01-04 23:14:42', 'desktop'],\n",
       " ['4416', 'registration', '2020-01-05 01:05:31', 'mobile'],\n",
       " ['10501', 'edit', '2020-01-05 00:53:17', 'desktop'],\n",
       " ['1037', 'create', '2020-01-05 06:10:27', 'desktop']]"
      ]
     },
     "execution_count": 15,
     "metadata": {},
     "output_type": "execute_result"
    }
   ],
   "source": [
    "data[0:10]"
   ]
  },
  {
   "cell_type": "markdown",
   "metadata": {},
   "source": [
    "This looks a lot better!"
   ]
  },
  {
   "cell_type": "markdown",
   "metadata": {},
   "source": [
    "--------------------------"
   ]
  },
  {
   "cell_type": "markdown",
   "metadata": {},
   "source": [
    "### Week 2 Course Material\n",
    "\n",
    "#### Learn\n",
    "- Lessons 3 & 4 https://www.udacity.com/course/introduction-to-python--ud1110\n",
    "- Functions, Sequences, Iterations: Python Programming Bootcamp 2020 | Learn to Code in Python [Tutorial and Exercises] https://www.youtube.com/watch?v=KPuA3Vq4yvY&t=0s\n",
    "- Python Functions https://www.youtube.com/watch?v=u-OmVr_fT4s\n",
    "- The first 5 sections, Introduction to DataFrame https://www.tutorialspoint.com/python_pandas/python_pandas_dataframe.htm\n",
    "\n",
    "#### Inspiration\n",
    "- How To Stay Motivated When Learning To Code https://www.youtube.com/watch?v=a0wY2TBs3zY\n",
    "- Dealing with Stress and Anxiety When Learning to Code https://www.youtube.com/watch?v=anfszzl3GpA\n",
    "\n",
    "### Step #2: More data manipulation + initial visualisation\n",
    "\n",
    "- Always check the data!\n",
    "- Let's try out some different ways of visualising the same thing. Which is most effective for understanding?"
   ]
  },
  {
   "cell_type": "markdown",
   "metadata": {},
   "source": [
    "After we import and understand what kind of information the dataset contains, we can start cleaning the dataset before stepping into analysis stage. The data cleaning process is very important to make sure that the dataset we had has met our criteria and to make sure the conclusion resulted from it is correct."
   ]
  },
  {
   "cell_type": "markdown",
   "metadata": {},
   "source": [
    "\n",
    "--------------------------"
   ]
  },
  {
   "cell_type": "markdown",
   "metadata": {},
   "source": [
    "### Week 3 Course Material\n",
    "\n",
    "Install pandas\n",
    "- The first 5 sections, from Introduction to DataFrame (includes installation) https://www.tutorialspoint.com/python_pandas/python_pandas_dataframe.htm\n",
    "- Install Pandas on Windows\thttps://data-flair.training/blogs/install-pandas-on-windows/\n",
    "- Install Pandas https://pandas.pydata.org/pandas-docs/stable/getting_started/install.html\n",
    "\n",
    "#### Learn\n",
    "- Python: Pandas Tutorial, Intro to DataFrames \n",
    " - (video) https://www.youtube.com/watch?v=e60ItwlZTKM\n",
    " - (article) https://www.datacamp.com/community/tutorials/pandas-tutorial-dataframe-python\n",
    "- Intro to Data Analysis / Visualization with Python, Matplotlib and Pandas | Matplotlib Tutorial https://www.youtube.com/watch?v=a9UrKTVEeZA\n",
    "\n",
    "#### Inspiration\n",
    "- The beauty of data visualization https://www.youtube.com/watch?v=5Zg-C8AAIGg\n",
    "\n",
    "### Step #3: More funnels\n",
    "\n",
    "- Time-delay between the different funnel steps\n",
    "- Segmentation, which users is this onboarding good for, who are dropping off?"
   ]
  },
  {
   "cell_type": "markdown",
   "metadata": {},
   "source": [
    "--------------------------"
   ]
  },
  {
   "cell_type": "markdown",
   "metadata": {},
   "source": [
    "### Week 4 Course Material\n",
    "\n",
    "#### Learn\n",
    "- Refactoring:\n",
    " - What is code refactoring? https://www.youtube.com/watch?v=vhYK3pDUijkv (first 3 mins)\n",
    " - How to Refactor Code in Python: A Beginner's Guide https://hubpages.com/technology/How-To-Refactor-Code-In-Python-A-Beginners-Guide\n",
    " - 4 Simple Ways to Refactor Your Python Code https://medium.com/code-85/4-simple-ways-to-refactor-your-python-code-2f491b767381\n",
    " - Python Refactoring https://www.youtube.com/watch?v=KTIl1MugsSY\n",
    "- What is Data Storytelling? https://www.nugit.co/what-is-data-storytelling/\n",
    "- 5 Steps for Effective Data Storytelling https://www.qlik.com/us/-/media/files/resource-library/global-us/register/ebooks/EB-5-Steps-for-Effective-Data-Storytelling-EN\n",
    "\n",
    "#### Inspiration\n",
    "- Making data mean more through storytelling https://www.youtube.com/watch?v=6xsvGYIxJok\n",
    "- Storytelling with Data (long) https://www.youtube.com/watch?v=8EMW7io4rSI\n",
    "\n",
    "### Step #4: Reproducible analysis and actionable insights\n",
    "\n",
    "- Refactor and reuse\n",
    "- Combining the funnels together, what are the key take-aways?"
   ]
  },
  {
   "cell_type": "markdown",
   "metadata": {},
   "source": [
    "--------------------------"
   ]
  }
 ],
 "metadata": {
  "kernelspec": {
   "display_name": "Python 3",
   "language": "python",
   "name": "python3"
  },
  "language_info": {
   "codemirror_mode": {
    "name": "ipython",
    "version": 3
   },
   "file_extension": ".py",
   "mimetype": "text/x-python",
   "name": "python",
   "nbconvert_exporter": "python",
   "pygments_lexer": "ipython3",
   "version": "3.6.3"
  }
 },
 "nbformat": 4,
 "nbformat_minor": 1
}
