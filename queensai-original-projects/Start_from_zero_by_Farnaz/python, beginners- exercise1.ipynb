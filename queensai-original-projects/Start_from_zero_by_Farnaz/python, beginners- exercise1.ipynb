{
 "cells": [
  {
   "cell_type": "markdown",
   "metadata": {},
   "source": [
    "#Introduction to Python Programming \n",
    "exercise1"
   ]
  },
  {
   "cell_type": "markdown",
   "metadata": {},
   "source": [
    "Quiz: readable_timedelta\n",
    "Write a function named readable_timedelta. The function should take one argument, an integer days, and return a string that says how many weeks and days that is. For example, calling the function and printing the result like this:"
   ]
  },
  {
   "cell_type": "markdown",
   "metadata": {},
   "source": [
    "We assume you know about functions in python :)\n",
    "if not, don't worry. check out this video : https://www.youtube.com/watch?v=u-OmVr_fT4s"
   ]
  },
  {
   "cell_type": "code",
   "execution_count": null,
   "metadata": {
    "collapsed": true
   },
   "outputs": [],
   "source": [
    "#quiz:\n",
    "    \n",
    "def readable_timedelta(days):\n",
    "    # use integer division to get the number of weeks\n",
    "    weeks = ?\n",
    "    # use % to get the number of days that remain\n",
    "    remainder = ?\n",
    "    return \"{} week(s) and {} day(s).\".format(weeks, remainder)\n",
    "\n",
    "# test your function\n",
    "print(readable_timedelta(10))"
   ]
  },
  {
   "cell_type": "code",
   "execution_count": null,
   "metadata": {
    "collapsed": true
   },
   "outputs": [],
   "source": [
    "#quiz:\n",
    "\n",
    "#Write a Python function to sum all the numbers in a list and return it as total.\n",
    "quiz_list = [8, 2, 3, 0, 7]\n"
   ]
  },
  {
   "cell_type": "code",
   "execution_count": null,
   "metadata": {
    "collapsed": true
   },
   "outputs": [],
   "source": [
    "#answer\n",
    "\n",
    "def sum(numbers):\n",
    "    ?\n",
    "    ?\n",
    "    ?\n",
    "    return total\n",
    "\n"
   ]
  },
  {
   "cell_type": "code",
   "execution_count": null,
   "metadata": {
    "collapsed": true
   },
   "outputs": [],
   "source": [
    "quiz_list = [8, 2, 3, 0, 7]\n",
    "print(sum(quiz_list))"
   ]
  },
  {
   "cell_type": "markdown",
   "metadata": {},
   "source": [
    "#pyhton for data analyses\n",
    "pandas packages,\n"
   ]
  },
  {
   "cell_type": "code",
   "execution_count": 3,
   "metadata": {
    "collapsed": true
   },
   "outputs": [],
   "source": [
    "import pandas as pd"
   ]
  },
  {
   "cell_type": "markdown",
   "metadata": {},
   "source": [
    "what is pandas?\n",
    "https://pandas.pydata.org/pandas-docs/stable/getting_started/install.html\n",
    "https://librarycarpentry.org/lc-python-intro/06-libraries/index.html\n",
    "https://www.youtube.com/watch?v=e60ItwlZTKM"
   ]
  },
  {
   "cell_type": "code",
   "execution_count": 4,
   "metadata": {
    "collapsed": true
   },
   "outputs": [],
   "source": [
    "#df stands for dataframe\n",
    "#the following, reads the csv file and put it in a dataframe\n",
    "df = pd.read_csv('exercise_file.csv')"
   ]
  },
  {
   "cell_type": "code",
   "execution_count": null,
   "metadata": {
    "collapsed": true
   },
   "outputs": [],
   "source": [
    "#print the head of the dataframe\n",
    "\n",
    "?"
   ]
  },
  {
   "cell_type": "code",
   "execution_count": null,
   "metadata": {
    "collapsed": true
   },
   "outputs": [],
   "source": [
    "#print the tail of the dataframe\n",
    "?"
   ]
  },
  {
   "cell_type": "code",
   "execution_count": null,
   "metadata": {
    "collapsed": true
   },
   "outputs": [],
   "source": [
    "#print all the columns of the dataframe\n",
    "?"
   ]
  },
  {
   "cell_type": "code",
   "execution_count": null,
   "metadata": {
    "collapsed": true
   },
   "outputs": [],
   "source": [
    "#the first item at 'SEK_IN_SNACKS'\n",
    "df['SEK_IN_SNACKS'][0]"
   ]
  },
  {
   "cell_type": "code",
   "execution_count": null,
   "metadata": {
    "collapsed": true
   },
   "outputs": [],
   "source": [
    "#what does the following line return?\n",
    "?\n",
    "type(df['SEK_IN_SNACKS'][1])"
   ]
  },
  {
   "cell_type": "code",
   "execution_count": null,
   "metadata": {
    "collapsed": true
   },
   "outputs": [],
   "source": [
    "df['traffic_source_level_1'][10]"
   ]
  },
  {
   "cell_type": "code",
   "execution_count": null,
   "metadata": {
    "collapsed": true
   },
   "outputs": [],
   "source": [
    "#we can also choose only a few columns of a dataframe: choose the head of 'country_id','traffic_source_level_1','SEK_IN_DRINKS'\n",
    "df[[?,?,?]].head()"
   ]
  },
  {
   "cell_type": "markdown",
   "metadata": {},
   "source": [
    "quiz :\n",
    "\n",
    "Get the sum of SEK_IN_SNACKS group by countries and 'traffic_source_level_1'\n",
    "Get the countries, and then channels and then the sum of kycs"
   ]
  },
  {
   "cell_type": "code",
   "execution_count": null,
   "metadata": {
    "collapsed": true
   },
   "outputs": [],
   "source": [
    "?"
   ]
  },
  {
   "cell_type": "code",
   "execution_count": null,
   "metadata": {
    "collapsed": true
   },
   "outputs": [],
   "source": [
    "#group by country and then return an average of values in each column with numeric data\n",
    "df.groupby([?]).mean()"
   ]
  },
  {
   "cell_type": "code",
   "execution_count": null,
   "metadata": {
    "collapsed": true
   },
   "outputs": [],
   "source": [
    "##group by country and then return an sum of values only in SEK_IN_FOOD\n",
    "df.groupby([?])[?].?()"
   ]
  },
  {
   "cell_type": "code",
   "execution_count": null,
   "metadata": {
    "collapsed": true
   },
   "outputs": [],
   "source": [
    "df.groupby(['country_id','traffic_source_level_1' ])['SEK_IN_SNACKS'].sum()"
   ]
  },
  {
   "cell_type": "markdown",
   "metadata": {},
   "source": [
    "now, same exercise with SEK_IN_FOOD.\n",
    "1) Let's play with the type of the items inside SEK_IN_FOOD and change them from float to string\n",
    "2) Let's make sure there is no \",\" in our numbers. sometimes, some numbers are written as 234,098 instead of 234.098\n",
    "3) So we just replace any \",\" with \".\" to be sure that the data is clean\n",
    "\n"
   ]
  },
  {
   "cell_type": "code",
   "execution_count": null,
   "metadata": {
    "collapsed": true
   },
   "outputs": [],
   "source": [
    "df['SEK_IN_FOOD'][0]"
   ]
  },
  {
   "cell_type": "code",
   "execution_count": null,
   "metadata": {
    "collapsed": true
   },
   "outputs": [],
   "source": [
    "df['SEK_IN_FOOD'] = df['SEK_IN_FOOD'].astype(str)"
   ]
  },
  {
   "cell_type": "code",
   "execution_count": null,
   "metadata": {
    "collapsed": true
   },
   "outputs": [],
   "source": [
    "type(df['SEK_IN_FOOD'][0])"
   ]
  },
  {
   "cell_type": "code",
   "execution_count": null,
   "metadata": {
    "collapsed": true
   },
   "outputs": [],
   "source": [
    "df['SEK_IN_FOOD'][0].replace(\",\", \".\")"
   ]
  },
  {
   "cell_type": "code",
   "execution_count": null,
   "metadata": {
    "collapsed": true
   },
   "outputs": [],
   "source": [
    "#what is the length of column SEK_IN_FOOD\n",
    "??(df['SEK_IN_FOOD'])"
   ]
  },
  {
   "cell_type": "markdown",
   "metadata": {},
   "source": [
    "we replaced one of the elements, but we need to change the whole dataset.\n",
    "let's be more fancy, instead of a for loop we will use list Comprehension \n"
   ]
  },
  {
   "cell_type": "markdown",
   "metadata": {},
   "source": [
    "what is list comprehension? https://www.youtube.com/watch?v=5K08WcjGV6c"
   ]
  },
  {
   "cell_type": "code",
   "execution_count": null,
   "metadata": {
    "collapsed": true
   },
   "outputs": [],
   "source": [
    "df['SEK_IN_FOOD'] = [df['SEK_IN_FOOD'][i].??(\",\", \".\") for i in range(len(df['SEK_IN_FOOD']))]"
   ]
  },
  {
   "cell_type": "code",
   "execution_count": null,
   "metadata": {
    "collapsed": true
   },
   "outputs": [],
   "source": [
    "#pandas.Series.astype"
   ]
  },
  {
   "cell_type": "code",
   "execution_count": null,
   "metadata": {
    "collapsed": true
   },
   "outputs": [],
   "source": [
    "df['SEK_IN_FOOD'] = df['SEK_IN_FOOD'].astype(float)"
   ]
  },
  {
   "cell_type": "code",
   "execution_count": null,
   "metadata": {
    "collapsed": true
   },
   "outputs": [],
   "source": [
    "type(df['SEK_IN_FOOD'][0])"
   ]
  },
  {
   "cell_type": "markdown",
   "metadata": {},
   "source": [
    "We can also group the data as we want and forexample calculate the total sum of SEK-IN-FOOD grouped by let's say countries.\n",
    "This type of grouping is very common in the life of data-analysts"
   ]
  },
  {
   "cell_type": "code",
   "execution_count": 7,
   "metadata": {},
   "outputs": [
    {
     "data": {
      "text/plain": [
       "country_id\n",
       "BR    139369.00\n",
       "DE     56398.24\n",
       "DK     18965.22\n",
       "ES     10936.12\n",
       "FI     36548.77\n",
       "FR     74156.75\n",
       "GB    312238.12\n",
       "IT      5193.91\n",
       "MX    232383.91\n",
       "NL     75197.10\n",
       "NO     48723.18\n",
       "SE     53004.51\n",
       "Name: SEK_IN_FOOD, dtype: float64"
      ]
     },
     "execution_count": 7,
     "metadata": {},
     "output_type": "execute_result"
    }
   ],
   "source": [
    "df[['country_id','SEK_IN_FOOD']].groupby(['country_id'])['SEK_IN_FOOD'].sum()\n"
   ]
  },
  {
   "cell_type": "code",
   "execution_count": 8,
   "metadata": {},
   "outputs": [
    {
     "data": {
      "text/plain": [
       "country_id  traffic_source_level_1\n",
       "BR          direct                      2776.00\n",
       "            online                    117953.00\n",
       "            partnerships               18640.00\n",
       "DE          direct                      2865.69\n",
       "            online                     52866.42\n",
       "            partnerships                 666.13\n",
       "DK          direct                       422.16\n",
       "            online                     18471.00\n",
       "            partnerships                  72.06\n",
       "ES          direct                       113.00\n",
       "            online                     10492.12\n",
       "            partnerships                 331.00\n",
       "FI          direct                       323.73\n",
       "            online                     36133.32\n",
       "            partnerships                  91.72\n",
       "FR          direct                      1165.65\n",
       "            online                     71696.35\n",
       "            partnerships                1294.75\n",
       "GB          direct                      4437.21\n",
       "            online                    304162.60\n",
       "            partnerships                3638.31\n",
       "IT          direct                       161.00\n",
       "            online                      4825.91\n",
       "            partnerships                 207.00\n",
       "MX          direct                     10829.06\n",
       "            online                    184724.98\n",
       "            partnerships               36829.87\n",
       "NL          direct                      1589.09\n",
       "            online                     72446.92\n",
       "            partnerships                1161.09\n",
       "NO          direct                       448.73\n",
       "            online                     47189.39\n",
       "            partnerships                1085.06\n",
       "SE          direct                      1110.03\n",
       "            online                     51708.76\n",
       "            partnerships                 185.72\n",
       "Name: SEK_IN_FOOD, dtype: float64"
      ]
     },
     "execution_count": 8,
     "metadata": {},
     "output_type": "execute_result"
    }
   ],
   "source": [
    "df[['country_id','timestamp_month','traffic_source_level_1','SEK_IN_FOOD']].groupby(['country_id','traffic_source_level_1' ])['SEK_IN_FOOD'].sum()\n"
   ]
  },
  {
   "cell_type": "markdown",
   "metadata": {},
   "source": [
    "Question: do you know what is the type of a grouped-by dataframe? \n",
    "it is a series. Not anymore a dataframe but a series :)"
   ]
  },
  {
   "cell_type": "code",
   "execution_count": 5,
   "metadata": {},
   "outputs": [],
   "source": [
    "x = df[['country_id','timestamp_month','traffic_source_level_1','SEK_IN_FOOD']].groupby(['country_id','traffic_source_level_1' ])['SEK_IN_FOOD'].sum()"
   ]
  },
  {
   "cell_type": "code",
   "execution_count": 10,
   "metadata": {},
   "outputs": [
    {
     "data": {
      "text/plain": [
       "pandas.core.series.Series"
      ]
     },
     "execution_count": 10,
     "metadata": {},
     "output_type": "execute_result"
    }
   ],
   "source": [
    "type(x)"
   ]
  },
  {
   "cell_type": "code",
   "execution_count": 11,
   "metadata": {
    "collapsed": true
   },
   "outputs": [],
   "source": [
    "df_sum = df[['country_id','timestamp_month','traffic_source_level_1','SEK_IN_FOOD','SEK_IN_SNACKS']].groupby(['country_id','traffic_source_level_1' ])['SEK_IN_FOOD','SEK_IN_SNACKS'].sum()\n"
   ]
  },
  {
   "cell_type": "markdown",
   "metadata": {},
   "source": [
    "We also can create a completely new column and add it to the table.\n",
    "In the following exercise we learn how to create a new column , for example for ratios"
   ]
  },
  {
   "cell_type": "code",
   "execution_count": 12,
   "metadata": {
    "collapsed": true
   },
   "outputs": [],
   "source": [
    "#let's create a a new column and calculate the ratio of food over snacks :'just for the sake of practice'\n",
    "df_sum['food_snacks_rate'] = df_sum['SEK_IN_FOOD']/df_sum['SEK_IN_SNACKS']"
   ]
  },
  {
   "cell_type": "code",
   "execution_count": 14,
   "metadata": {},
   "outputs": [
    {
     "data": {
      "text/html": [
       "<div>\n",
       "<style>\n",
       "    .dataframe thead tr:only-child th {\n",
       "        text-align: right;\n",
       "    }\n",
       "\n",
       "    .dataframe thead th {\n",
       "        text-align: left;\n",
       "    }\n",
       "\n",
       "    .dataframe tbody tr th {\n",
       "        vertical-align: top;\n",
       "    }\n",
       "</style>\n",
       "<table border=\"1\" class=\"dataframe\">\n",
       "  <thead>\n",
       "    <tr style=\"text-align: right;\">\n",
       "      <th></th>\n",
       "      <th></th>\n",
       "      <th>SEK_IN_FOOD</th>\n",
       "      <th>SEK_IN_SNACKS</th>\n",
       "      <th>food_snacks_rate</th>\n",
       "    </tr>\n",
       "    <tr>\n",
       "      <th>country_id</th>\n",
       "      <th>traffic_source_level_1</th>\n",
       "      <th></th>\n",
       "      <th></th>\n",
       "      <th></th>\n",
       "    </tr>\n",
       "  </thead>\n",
       "  <tbody>\n",
       "    <tr>\n",
       "      <th rowspan=\"3\" valign=\"top\">BR</th>\n",
       "      <th>direct</th>\n",
       "      <td>2776.00</td>\n",
       "      <td>1556.656190</td>\n",
       "      <td>1.783310</td>\n",
       "    </tr>\n",
       "    <tr>\n",
       "      <th>online</th>\n",
       "      <td>117953.00</td>\n",
       "      <td>17402.825960</td>\n",
       "      <td>6.777807</td>\n",
       "    </tr>\n",
       "    <tr>\n",
       "      <th>partnerships</th>\n",
       "      <td>18640.00</td>\n",
       "      <td>9703.091926</td>\n",
       "      <td>1.921037</td>\n",
       "    </tr>\n",
       "    <tr>\n",
       "      <th rowspan=\"2\" valign=\"top\">DE</th>\n",
       "      <th>direct</th>\n",
       "      <td>2865.69</td>\n",
       "      <td>2032.695374</td>\n",
       "      <td>1.409798</td>\n",
       "    </tr>\n",
       "    <tr>\n",
       "      <th>online</th>\n",
       "      <td>52866.42</td>\n",
       "      <td>14323.325837</td>\n",
       "      <td>3.690932</td>\n",
       "    </tr>\n",
       "  </tbody>\n",
       "</table>\n",
       "</div>"
      ],
      "text/plain": [
       "                                   SEK_IN_FOOD  SEK_IN_SNACKS  \\\n",
       "country_id traffic_source_level_1                               \n",
       "BR         direct                      2776.00    1556.656190   \n",
       "           online                    117953.00   17402.825960   \n",
       "           partnerships               18640.00    9703.091926   \n",
       "DE         direct                      2865.69    2032.695374   \n",
       "           online                     52866.42   14323.325837   \n",
       "\n",
       "                                   food_snacks_rate  \n",
       "country_id traffic_source_level_1                    \n",
       "BR         direct                          1.783310  \n",
       "           online                          6.777807  \n",
       "           partnerships                    1.921037  \n",
       "DE         direct                          1.409798  \n",
       "           online                          3.690932  "
      ]
     },
     "execution_count": 14,
     "metadata": {},
     "output_type": "execute_result"
    }
   ],
   "source": [
    "#check it out :)\n",
    "df_sum.head()"
   ]
  },
  {
   "cell_type": "code",
   "execution_count": null,
   "metadata": {
    "collapsed": true
   },
   "outputs": [],
   "source": [
    "#Now, let's create a a new column and calculate something of your own choice. Be creative\n",
    "?"
   ]
  },
  {
   "cell_type": "code",
   "execution_count": null,
   "metadata": {
    "collapsed": true
   },
   "outputs": [],
   "source": []
  }
 ],
 "metadata": {
  "kernelspec": {
   "display_name": "Python 3",
   "language": "python",
   "name": "python3"
  },
  "language_info": {
   "codemirror_mode": {
    "name": "ipython",
    "version": 3
   },
   "file_extension": ".py",
   "mimetype": "text/x-python",
   "name": "python",
   "nbconvert_exporter": "python",
   "pygments_lexer": "ipython3",
   "version": "3.6.3"
  }
 },
 "nbformat": 4,
 "nbformat_minor": 2
}
